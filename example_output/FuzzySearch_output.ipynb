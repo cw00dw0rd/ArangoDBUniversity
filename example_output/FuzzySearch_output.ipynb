{
  "nbformat": 4,
  "nbformat_minor": 0,
  "metadata": {
    "kernelspec": {
      "name": "python3",
      "display_name": "Python 3"
    },
    "colab": {
      "name": "FuzzySearch.ipynb",
      "provenance": [],
      "toc_visible": true
    }
  },
  "cells": [
    {
      "cell_type": "markdown",
      "metadata": {
        "id": "bfxiSjWR8Kmw",
        "colab_type": "text"
      },
      "source": [
        "![arangodb](https://github.com/joerg84/ArangoDBUniversity/blob/master/img/ArangoDB_logo.png?raw=1)"
      ]
    },
    {
      "cell_type": "markdown",
      "metadata": {
        "id": "VE3KR8sW8Kmw",
        "colab_type": "text"
      },
      "source": [
        "# Fuzzy Search "
      ]
    },
    {
      "cell_type": "markdown",
      "metadata": {
        "id": "c3DiEFJE8Kmx",
        "colab_type": "text"
      },
      "source": [
        "<a href=\"https://colab.research.google.com/github/joerg84/ArangoDBUniversity/blob/master/FuzzySearch.ipynb\" target=\"_parent\"><img src=\"https://colab.research.google.com/assets/colab-badge.svg\" alt=\"Open In Colab\"/></a>"
      ]
    },
    {
      "cell_type": "markdown",
      "metadata": {
        "id": "4o7Vn4Uo8Kmy",
        "colab_type": "text"
      },
      "source": [
        "ArangoSearch provides information retrieval features, natively integrated into ArangoDB’s query language and with support for all data models. It is primarily a full-text search engine, a much more powerful alternative to the full-text index type.\n",
        "Check this [ArangoSearch notebook](https://colab.research.google.com/github/joerg84/ArangoDBUniversity/blob/master/ArangoSearch.ipynb) for an introduction to ArangoSearch.\n",
        "\n",
        "When dealing with real-world text retrieval, we often not only care about exact matches to our search phrase but need to consider for example typos or alternative spellings.\n",
        "“Fuzzy search” is an umbrella term referring to a set of algorithms for such approximate matching. Usually such algorithms evaluate some similarity measure showing how close a search term is to the items in a dictionary. Then a search engine can make a decision on which results have to be shown first.\n",
        "\n",
        "In this notebook we will apply at two different implementation of fuzzy search in [ArangoSearch](https://www.arangodb.com/why-arangodb/full-text-search-engine-arangosearch/):\n",
        "* [Levenshtein distance](https://www.arangodb.com/docs/devel/aql/functions-arangosearch.html#levenshtein_match\n",
        ")\n",
        "* [NGram similarity](https://www.arangodb.com/docs/devel/aql/functions-arangosearch.html#ngram_match)"
      ]
    },
    {
      "cell_type": "markdown",
      "metadata": {
        "id": "ZlcbVfOs8Kmy",
        "colab_type": "text"
      },
      "source": [
        "# Setup "
      ]
    },
    {
      "cell_type": "markdown",
      "metadata": {
        "id": "uoIFBPwp8Kmy",
        "colab_type": "text"
      },
      "source": [
        "Before getting started with ArangoSearch we need to prepare our environment and create a temporary database on ArangoDB's managed Service Oasis."
      ]
    },
    {
      "cell_type": "code",
      "metadata": {
        "id": "uXdL1FZe8Kmz",
        "colab_type": "code",
        "colab": {}
      },
      "source": [
        "%%capture\n",
        "!git clone https://github.com/joerg84/ArangoDBUniversity.git\n",
        "!rsync -av ArangoDBUniversity/ ./ --exclude=.git\n",
        "!pip3 install pyarango\n",
        "!pip3 install \"python-arango>=5.0\""
      ],
      "execution_count": 0,
      "outputs": []
    },
    {
      "cell_type": "code",
      "metadata": {
        "id": "1pKXjdTS8Km2",
        "colab_type": "code",
        "colab": {}
      },
      "source": [
        "import json\n",
        "import requests\n",
        "import sys\n",
        "import oasis\n",
        "import time\n",
        "\n",
        "from pyArango.connection import *\n",
        "from arango import ArangoClient"
      ],
      "execution_count": 0,
      "outputs": []
    },
    {
      "cell_type": "markdown",
      "metadata": {
        "id": "6968hvSs8Km3",
        "colab_type": "text"
      },
      "source": [
        "Create the temporary database:"
      ]
    },
    {
      "cell_type": "code",
      "metadata": {
        "id": "TaGHLin28Km4",
        "colab_type": "code",
        "colab": {
          "base_uri": "https://localhost:8080/",
          "height": 51
        },
        "outputId": "84c97070-17ff-4ed9-b584-967d16ed4a7a"
      },
      "source": [
        "# Retrieve tmp credentials from ArangoDB Tutorial Service\n",
        "login = oasis.getTempCredentials(tutorialName=\"ArangoSearchIMDBTutorial\", credentialProvider=\"https://d383fa0b596a.arangodb.cloud:8529/_db/_system/tutorialDB/tutorialDB\")\n",
        "\n",
        "# Connect to the temp database\n",
        "# Please note that we use the python-arango driver as it has better support for ArangoSearch \n",
        "database = oasis.connect_python_arango(login)"
      ],
      "execution_count": 38,
      "outputs": [
        {
          "output_type": "stream",
          "text": [
            "Requesting new temp credentials.\n",
            "Temp database ready to use.\n"
          ],
          "name": "stdout"
        }
      ]
    },
    {
      "cell_type": "code",
      "metadata": {
        "id": "ECAfpWU48Km6",
        "colab_type": "code",
        "colab": {
          "base_uri": "https://localhost:8080/",
          "height": 85
        },
        "outputId": "9cae31ab-5fbc-4be1-a1b0-e3129cf05bab"
      },
      "source": [
        "print(\"https://\"+login[\"hostname\"]+\":\"+str(login[\"port\"]))\n",
        "print(\"Username: \" + login[\"username\"])\n",
        "print(\"Password: \" + login[\"password\"])\n",
        "print(\"Database: \" + login[\"dbName\"])"
      ],
      "execution_count": 39,
      "outputs": [
        {
          "output_type": "stream",
          "text": [
            "https://d383fa0b596a.arangodb.cloud:8529\n",
            "Username: TUT5n4jeb8adpj8hho4voj5kk\n",
            "Password: TUT1q5ggtvxr2zxl78hwq74b\n",
            "Database: TUTmpkhrsgnkn9vii1nvv1o4\n"
          ],
          "name": "stdout"
        }
      ]
    },
    {
      "cell_type": "markdown",
      "metadata": {
        "id": "xZ0mydlq8Km8",
        "colab_type": "text"
      },
      "source": [
        "Feel free to use to above URL to checkout the WebUI!"
      ]
    },
    {
      "cell_type": "markdown",
      "metadata": {
        "id": "_vXqUK6L8Km9",
        "colab_type": "text"
      },
      "source": [
        "##  IMDB Example Dataset"
      ]
    },
    {
      "cell_type": "markdown",
      "metadata": {
        "id": "o9JQShDi8Km9",
        "colab_type": "text"
      },
      "source": [
        "![imdb](https://github.com/joerg84/ArangoDBUniversity/blob/master/img/IMDB_graph.png?raw=1)"
      ]
    },
    {
      "cell_type": "markdown",
      "metadata": {
        "id": "SXkaey-g8Km9",
        "colab_type": "text"
      },
      "source": [
        "Last, but not least we will import the [IMBD Example Dataset](https://github.com/arangodb/example-datasets/tree/master/Graphs/IMDB) including information about various movies, actors, directors, ... as a graph. \n",
        "*Note the included arangorestore will only work on Linux or Windows systems, if you want to run this notebook on a different OS please consider using the appropriate arangorestore from the [Download area](https://www.arangodb.com/download-major/)."
      ]
    },
    {
      "cell_type": "markdown",
      "metadata": {
        "id": "bKM6jcXa8Km-",
        "colab_type": "text"
      },
      "source": [
        "## Linux:"
      ]
    },
    {
      "cell_type": "code",
      "metadata": {
        "id": "VPqigG8H8Km-",
        "colab_type": "code",
        "colab": {
          "base_uri": "https://localhost:8080/",
          "height": 496
        },
        "outputId": "1900e2cc-3550-437f-d465-905508adc91e"
      },
      "source": [
        "! ./tools/arangorestore -c none --server.endpoint http+ssl://{login[\"hostname\"]}:{login[\"port\"]} --server.username {login[\"username\"]} --server.database {login[\"dbName\"]} --server.password {login[\"password\"]} --default-replication-factor 3  --input-directory \"data/imdb\""
      ],
      "execution_count": 40,
      "outputs": [
        {
          "output_type": "stream",
          "text": [
            "\u001b[0m2020-06-15T22:10:30Z [517] INFO [05c30] {restore} Connected to ArangoDB 'http+ssl://d383fa0b596a.arangodb.cloud:8529'\n",
            "\u001b[0m\u001b[0m2020-06-15T22:10:31Z [517] INFO [3b6a4] {restore} no properties object\n",
            "\u001b[0m\u001b[0m2020-06-15T22:10:31Z [517] INFO [9b414] {restore} # Re-creating document collection 'imdb_vertices'...\n",
            "\u001b[0m\u001b[0m2020-06-15T22:10:31Z [517] INFO [9b414] {restore} # Re-creating edge collection 'imdb_edges'...\n",
            "\u001b[0m\u001b[0m2020-06-15T22:10:32Z [517] INFO [6d69f] {restore} # Dispatched 2 job(s), using 2 worker(s)\n",
            "\u001b[0m\u001b[0m2020-06-15T22:10:32Z [517] INFO [d88c6] {restore} # Creating indexes for collection 'imdb_vertices'...\n",
            "\u001b[0m\u001b[0m2020-06-15T22:10:32Z [517] INFO [94913] {restore} # Loading data into edge collection 'imdb_edges', data size: 48957903 byte(s)\n",
            "\u001b[0m\u001b[0m2020-06-15T22:10:32Z [517] INFO [94913] {restore} # Loading data into document collection 'imdb_vertices', data size: 22665786 byte(s)\n",
            "\u001b[0m\u001b[0m2020-06-15T22:10:37Z [517] INFO [75e65] {restore} # Current restore progress: restored 0 of 2 collection(s), read 16777216 byte(s) from datafiles, sent 2 data batch(es) of 0 byte(s) total size, queued jobs: 0, workers: 2\n",
            "\u001b[0m\u001b[0m2020-06-15T22:10:42Z [517] INFO [75e65] {restore} # Current restore progress: restored 0 of 2 collection(s), read 16777216 byte(s) from datafiles, sent 2 data batch(es) of 0 byte(s) total size, queued jobs: 0, workers: 2\n",
            "\u001b[0m\u001b[0m2020-06-15T22:10:47Z [517] INFO [75e65] {restore} # Current restore progress: restored 0 of 2 collection(s), read 33554432 byte(s) from datafiles, sent 4 data batch(es) of 16777139 byte(s) total size, queued jobs: 0, workers: 2\n",
            "\u001b[0m\u001b[0m2020-06-15T22:10:51Z [517] INFO [69a73] {restore} # Still loading data into edge collection 'imdb_edges', 16777216 of 48957903 byte(s) restored (34 %)\n",
            "\u001b[0m\u001b[0m2020-06-15T22:10:52Z [517] INFO [75e65] {restore} # Current restore progress: restored 0 of 2 collection(s), read 41943040 byte(s) from datafiles, sent 5 data batch(es) of 25165735 byte(s) total size, queued jobs: 0, workers: 2\n",
            "\u001b[0m\u001b[0m2020-06-15T22:10:57Z [517] INFO [75e65] {restore} # Current restore progress: restored 0 of 2 collection(s), read 41943040 byte(s) from datafiles, sent 5 data batch(es) of 25165735 byte(s) total size, queued jobs: 0, workers: 2\n",
            "\u001b[0m\u001b[0m2020-06-15T22:10:57Z [517] INFO [69a73] {restore} # Still loading data into document collection 'imdb_vertices', 16777216 of 22665786 byte(s) restored (74 %)\n",
            "\u001b[0m\u001b[0m2020-06-15T22:11:02Z [517] INFO [75e65] {restore} # Current restore progress: restored 0 of 2 collection(s), read 56220218 byte(s) from datafiles, sent 7 data batch(es) of 41942766 byte(s) total size, queued jobs: 0, workers: 2\n",
            "\u001b[0m\u001b[0m2020-06-15T22:11:07Z [517] INFO [75e65] {restore} # Current restore progress: restored 0 of 2 collection(s), read 56220218 byte(s) from datafiles, sent 7 data batch(es) of 41942766 byte(s) total size, queued jobs: 0, workers: 2\n",
            "\u001b[0m\u001b[0m2020-06-15T22:11:07Z [517] INFO [6ae09] {restore} # Successfully restored document collection 'imdb_vertices'\n",
            "\u001b[0m\u001b[0m2020-06-15T22:11:10Z [517] INFO [69a73] {restore} # Still loading data into edge collection 'imdb_edges', 33554432 of 48957903 byte(s) restored (68 %)\n",
            "\u001b[0m\u001b[0m2020-06-15T22:11:12Z [517] INFO [75e65] {restore} # Current restore progress: restored 1 of 2 collection(s), read 64608826 byte(s) from datafiles, sent 8 data batch(es) of 56220084 byte(s) total size, queued jobs: 0, workers: 2\n",
            "\u001b[0m\u001b[0m2020-06-15T22:11:17Z [517] INFO [75e65] {restore} # Current restore progress: restored 1 of 2 collection(s), read 64608826 byte(s) from datafiles, sent 8 data batch(es) of 56220084 byte(s) total size, queued jobs: 0, workers: 2\n",
            "\u001b[0m\u001b[0m2020-06-15T22:11:22Z [517] INFO [75e65] {restore} # Current restore progress: restored 1 of 2 collection(s), read 64608826 byte(s) from datafiles, sent 8 data batch(es) of 56220084 byte(s) total size, queued jobs: 0, workers: 2\n",
            "\u001b[0m\u001b[0m2020-06-15T22:11:27Z [517] INFO [75e65] {restore} # Current restore progress: restored 1 of 2 collection(s), read 64608826 byte(s) from datafiles, sent 8 data batch(es) of 56220084 byte(s) total size, queued jobs: 0, workers: 2\n",
            "\u001b[0m\u001b[0m2020-06-15T22:11:32Z [517] INFO [75e65] {restore} # Current restore progress: restored 1 of 2 collection(s), read 71623689 byte(s) from datafiles, sent 9 data batch(es) of 64608683 byte(s) total size, queued jobs: 0, workers: 2\n",
            "\u001b[0m\u001b[0m2020-06-15T22:11:33Z [517] INFO [69a73] {restore} # Still loading data into edge collection 'imdb_edges', 48957903 of 48957903 byte(s) restored (100 %)\n",
            "\u001b[0m\u001b[0m2020-06-15T22:11:33Z [517] INFO [6ae09] {restore} # Successfully restored edge collection 'imdb_edges'\n",
            "\u001b[0m\u001b[0m2020-06-15T22:11:33Z [517] INFO [a66e1] {restore} Processed 2 collection(s) in 64.673472 s, read 71623689 byte(s) from datafiles, sent 9 data batch(es) of 71623687 byte(s) total size\n",
            "\u001b[0m"
          ],
          "name": "stdout"
        }
      ]
    },
    {
      "cell_type": "markdown",
      "metadata": {
        "id": "9yE_uMym8KnA",
        "colab_type": "text"
      },
      "source": [
        "# Create First View"
      ]
    },
    {
      "cell_type": "markdown",
      "metadata": {
        "id": "GhQynyJJ8KnB",
        "colab_type": "text"
      },
      "source": [
        "As discussed above, an ArangoSearch view contains references to documents stored in different collections. \n",
        "This makes it possible to perform complex federated searches, even over a complete graph including vertex and edge collections."
      ]
    },
    {
      "cell_type": "code",
      "metadata": {
        "id": "B-koXo6C8KnB",
        "colab_type": "code",
        "colab": {
          "base_uri": "https://localhost:8080/",
          "height": 323
        },
        "outputId": "90958260-8c75-42de-c2ea-8f0aff992d97"
      },
      "source": [
        "# Create an ArangoSearch view.\n",
        "database.create_arangosearch_view(\n",
        "    name='v_imdb',\n",
        "    properties={'cleanupIntervalStep': 0}\n",
        ")"
      ],
      "execution_count": 41,
      "outputs": [
        {
          "output_type": "execute_result",
          "data": {
            "text/plain": [
              "{'cleanup_interval_step': 0,\n",
              " 'commit_interval_msec': 1000,\n",
              " 'consolidation_interval_msec': 10000,\n",
              " 'consolidation_policy': {'min_score': 0,\n",
              "  'segments_bytes_floor': 2097152,\n",
              "  'segments_bytes_max': 5368709120,\n",
              "  'segments_max': 10,\n",
              "  'segments_min': 1,\n",
              "  'type': 'tier'},\n",
              " 'global_id': 'c16022453/',\n",
              " 'id': '16022453',\n",
              " 'links': [],\n",
              " 'name': 'v_imdb',\n",
              " 'primary_sort': [],\n",
              " 'type': 'arangosearch',\n",
              " 'writebuffer_active': 0,\n",
              " 'writebuffer_idle': 64,\n",
              " 'writebuffer_max_size': 33554432}"
            ]
          },
          "metadata": {
            "tags": []
          },
          "execution_count": 41
        }
      ]
    },
    {
      "cell_type": "markdown",
      "metadata": {
        "id": "Dn3rKYKG8KnD",
        "colab_type": "text"
      },
      "source": [
        "Let us check it is actually there:"
      ]
    },
    {
      "cell_type": "code",
      "metadata": {
        "id": "J5bwOthX8KnD",
        "colab_type": "code",
        "colab": {
          "base_uri": "https://localhost:8080/",
          "height": 34
        },
        "outputId": "8f4284b8-3601-4dd8-a23a-6acec107a9fc"
      },
      "source": [
        "print(database[\"v_imdb\"])"
      ],
      "execution_count": 42,
      "outputs": [
        {
          "output_type": "stream",
          "text": [
            "<StandardCollection v_imdb>\n"
          ],
          "name": "stdout"
        }
      ]
    },
    {
      "cell_type": "markdown",
      "metadata": {
        "id": "a7RJtPcu8KnF",
        "colab_type": "text"
      },
      "source": [
        "As of now this view is empty, so we need to link it to a collection (i.e., imdb_vertices)."
      ]
    },
    {
      "cell_type": "code",
      "metadata": {
        "id": "IL8GQTtQ8KnF",
        "colab_type": "code",
        "colab": {
          "base_uri": "https://localhost:8080/",
          "height": 323
        },
        "outputId": "8cdc363c-bf6d-43ab-c4e4-f12a6714acc6"
      },
      "source": [
        " link = { \n",
        "  \"includeAllFields\": True,\n",
        "  \"fields\" : { \"description\" : { \"analyzers\" : [ \"text_en\" ] } }\n",
        "}\n",
        "\n",
        "database.update_arangosearch_view(\n",
        "    name='v_imdb',\n",
        "    properties={'links': { 'imdb_vertices': link }}\n",
        ")"
      ],
      "execution_count": 43,
      "outputs": [
        {
          "output_type": "execute_result",
          "data": {
            "text/plain": [
              "{'cleanup_interval_step': 0,\n",
              " 'commit_interval_msec': 1000,\n",
              " 'consolidation_interval_msec': 10000,\n",
              " 'consolidation_policy': {'min_score': 0,\n",
              "  'segments_bytes_floor': 2097152,\n",
              "  'segments_bytes_max': 5368709120,\n",
              "  'segments_max': 10,\n",
              "  'segments_min': 1,\n",
              "  'type': 'tier'},\n",
              " 'global_id': 'c16022453/',\n",
              " 'id': '16022453',\n",
              " 'links': [{}],\n",
              " 'name': 'v_imdb',\n",
              " 'primary_sort': [],\n",
              " 'type': 'arangosearch',\n",
              " 'writebuffer_active': 0,\n",
              " 'writebuffer_idle': 64,\n",
              " 'writebuffer_max_size': 33554432}"
            ]
          },
          "metadata": {
            "tags": []
          },
          "execution_count": 43
        }
      ]
    },
    {
      "cell_type": "markdown",
      "metadata": {
        "id": "tMZumewz8KnH",
        "colab_type": "text"
      },
      "source": [
        "As the indexing might take a few seconds, let us have a brief look at what is actually going on."
      ]
    },
    {
      "cell_type": "markdown",
      "metadata": {
        "id": "89Xus7i28KnI",
        "colab_type": "text"
      },
      "source": [
        "![ArangoSearch](https://github.com/joerg84/ArangoDBUniversity/blob/master/img/ArangoSearch_Arch.jpg?raw=1)"
      ]
    },
    {
      "cell_type": "markdown",
      "metadata": {
        "id": "k5XppaGr8KnI",
        "colab_type": "text"
      },
      "source": [
        "By now our view should be ready, so let us issue the first query and look for short Drama Movies."
      ]
    },
    {
      "cell_type": "code",
      "metadata": {
        "id": "s6fIUV9N8KnI",
        "colab_type": "code",
        "colab": {
          "base_uri": "https://localhost:8080/",
          "height": 544
        },
        "outputId": "4d2d878e-fcf9-4ce7-c6ab-25c838f278ed"
      },
      "source": [
        "cursor = database.aql.execute(\n",
        "  \"\"\"\n",
        "  FOR d IN v_imdb \n",
        "    SEARCH d.type == \"Movie\" \n",
        "    AND \n",
        "    d.genre == \"Drama\" \n",
        "    AND \n",
        "    d.runtime IN 10..50 \n",
        "    RETURN d.title\n",
        "  \"\"\"\n",
        ")\n",
        "# Iterate through the result cursor\n",
        "for doc in cursor:\n",
        "  print(doc)"
      ],
      "execution_count": 44,
      "outputs": [
        {
          "output_type": "stream",
          "text": [
            "Wellcome\n",
            "Rosemarie Nitribitt - Tod einer Edelhure\n",
            "Wiatr\n",
            "Primavera\n",
            "Lücken im Gedankenstrom\n",
            "Dr. Jekyll and Mr. Hyde\n",
            "Breaking Glass\n",
            "Pulsar\n",
            "Frühlings Erwachen - Eine Kindertragödie\n",
            "Glastage\n",
            "Sunday in August\n",
            "Land gewinnen\n",
            "À San Remo\n",
            "Carne\n",
            "Dr. Jekyll and Mr. Hyde\n",
            "Room 10\n",
            "Zwischen Flieder wandern und singen\n",
            "Alias\n",
            "Antoine et Colette\n",
            "Edison's Frankenstein\n",
            "Silvester Home Run\n",
            "Bis zur Unendlichkeit\n",
            "Space Riders\n",
            "True\n",
            "Kurz:Ivan\n",
            "Dreamcatcher\n",
            "The Kolaborator\n",
            "Rounds\n",
            "Melissa\n",
            "Hotel Chevalier\n",
            "Another Lady Innocent\n"
          ],
          "name": "stdout"
        }
      ]
    },
    {
      "cell_type": "markdown",
      "metadata": {
        "id": "eHR1LqTs8KnK",
        "colab_type": "text"
      },
      "source": [
        "## Levenshtein MATCH"
      ]
    },
    {
      "cell_type": "markdown",
      "metadata": {
        "id": "kn4WyyHN8KnL",
        "colab_type": "text"
      },
      "source": [
        "Proximity searching is a way to search for two or more words that occur within a certain number of words from each other.\n",
        "In the next example, we are looking for the word sequence \"in <any word> galaxy\" in the description of a movie.\n",
        "Feel free to try other values!"
      ]
    },
    {
      "cell_type": "code",
      "metadata": {
        "id": "MExWiwZV8KnL",
        "colab_type": "code",
        "colab": {
          "base_uri": "https://localhost:8080/",
          "height": 88
        },
        "outputId": "a41b149b-5c0d-4f22-e027-100d395f77f2"
      },
      "source": [
        "# Execute the query\n",
        "cursor = database.aql.execute(\n",
        "  \"\"\"\n",
        "  FOR d IN v_imdb \n",
        "  SEARCH PHRASE(\n",
        "    d.description, \n",
        "    \"in\", \n",
        "    1, \n",
        "    \"galaxy\", \n",
        "    \"text_en\"\n",
        "    ) \n",
        "    RETURN {\n",
        "      title: d.title, \n",
        "      description: d.description\n",
        "      }\n",
        "  \"\"\"\n",
        ")\n",
        "# Iterate through the result cursor\n",
        "for doc in cursor:\n",
        "  print(doc)"
      ],
      "execution_count": 45,
      "outputs": [
        {
          "output_type": "stream",
          "text": [
            "{'title': 'Lost in Space', 'description': 'The prospects for continuing life on Earth in the year 2058 are grim. So the Robinsons are launched into space to colonize Alpha Prime, the only other inhabitable planet in the galaxy. But when a stowaway sabotages the mission, the Robinsons find themselves hurtling through uncharted space.'}\n",
            "{'title': 'The Ice Pirates', 'description': 'The time is the distant future, where by far the most precious commodity in the galaxy is water. The last surviving water planet was somehow removed to the unreachable centre of the galaxy at the end of the galactic trade wars. The galaxy is ruled by an evil emperor (John Carradine) presiding over a trade oligarchy that controls all mining and sale of ice from asteroids and comets.'}\n",
            "{'title': 'Alien Tracker', 'description': \"In a galaxy far away, alien criminals organize a spectacular prison break. Pursued by their home planet's authorities, their leader Zin decides there's only one place to go: through a wormhole that allows instantaneous travel to Earth. Cole is the Alien Tracker who's in hot pursuit of the escaped convicts.\"}\n"
          ],
          "name": "stdout"
        }
      ]
    },
    {
      "cell_type": "code",
      "metadata": {
        "id": "IYzxDnGn8KnM",
        "colab_type": "code",
        "colab": {
          "base_uri": "https://localhost:8080/",
          "height": 326
        },
        "outputId": "5a91e078-a3ec-4350-e5fa-903d963f66f0"
      },
      "source": [
        "# Execute the query\n",
        "cursor = database.aql.execute(\n",
        "  \"\"\"\n",
        "  FOR doc IN v_imdb\n",
        "    SEARCH NGRAM_MATCH(\n",
        "      doc.description, \n",
        "      'galaxy', \n",
        "      'text_en'\n",
        "      )\n",
        "    RETURN doc\n",
        "  \"\"\"\n",
        ")\n",
        "# Iterate through the result cursor\n",
        "for doc in cursor:\n",
        "  print(doc)"
      ],
      "execution_count": 46,
      "outputs": [
        {
          "output_type": "stream",
          "text": [
            "{'_key': '601', '_id': 'imdb_vertices/601', '_rev': '_apmGtwm-Am', 'description': '(22 Years Before Episode IV) Ten years after the events of the Battle of Naboo, not only has the galaxy undergone significant change, but so have Obi-Wan Kenobi, Padmé Amidala, and Anakin Skywalker as they are thrown together again for the first time since the Trade Federation invasion of Naboo. Anakin has grown into the accomplished Jedi apprentice of Obi-Wan, who himself has transitioned from student to teacher. The two Jedi are assigned to protect Padmé whose life is threatened by a faction o', 'genre': 'Action', 'homepage': '', 'id': '1894', 'imageUrl': 'http://cf1.imgobject.com/posters/206/4bccf5f0017a3c0f2c000206/star-wars-episode-ii-attack-of-the-clones-mid.jpg', 'imdbId': 'tt0121765', 'label': 'Star Wars: Episode II - Attack of the Clones', 'language': 'en', 'lastModified': '1299979002000', 'releaseDate': '1021500000000', 'released': '2000-2010', 'runtime': 142, 'studio': 'Lucasfilm', 'tagline': 'A Jedi Shall Not Know Anger. Nor Hatred. Nor Love.', 'title': 'Star Wars: Episode II - Attack of the Clones', 'trailer': 'http://www.youtube.com/watch?v=9C-fZCLsISA', 'type': 'Movie', 'version': 299}\n",
            "{'_key': '2101', '_id': 'imdb_vertices/2101', '_rev': '_apmGt2q--p', 'description': 'Star Trek a futuristic science fiction franchise. With a space ship that can travel faster than the speed of light, galaxies to explore, and cool skin tight suits to beam up in, Star Trek has been, since the 1960’s, a series of Films, various TV series, video games, the host of many spin-offs, and the possibly the first to use the cell phone. Star Trek fans are some of the most devout.', 'homepage': '', 'id': '151', 'imageUrl': 'http://cf1.imgobject.com/posters/83d/4cc472035e73d6778400183d/star-trek-collection-mid.jpg', 'imdbId': '', 'label': 'Star Trek Collection', 'language': 'en', 'lastModified': '1300049488000', 'tagline': '', 'title': 'Star Trek Collection', 'type': 'Movie', 'version': 226}\n",
            "{'_key': '8047', '_id': 'imdb_vertices/8047', '_rev': '_apmGt3S--y', 'description': 'An army embarks on an immense and indescribable journey into the Black Fortress of the galaxies to subdue the planets where Krull has arranged the marriage of a Prince and Princes who are to join his alliance. English heroic fantasy film from 1983 with a fantastic score by James Horner.', 'genre': 'Action', 'homepage': '', 'id': '849', 'imageUrl': 'http://cf1.imgobject.com/posters/c08/4bc90d75017a3c57fe004c08/krull-mid.jpg', 'imdbId': 'tt0085811', 'label': 'Krull', 'language': 'en', 'lastModified': '1299912365000', 'releaseDate': '428277600000', 'released': '1980-1990', 'runtime': 117, 'studio': 'Columbia Pictures Corporation', 'tagline': '', 'title': 'Krull', 'trailer': 'http://www.youtube.com/watch?v=cBKcmg0c2bU', 'type': 'Movie', 'version': 155}\n",
            "{'_key': '12384', '_id': 'imdb_vertices/12384', '_rev': '_apmGt4K--3', 'description': \"(19 Years before Episode IV) Three years after the onset of the Clone Wars, the noble Jedi Knights have been leading a massive clone army into a galaxy-wide battle against the Separatists. When the sinister Sith unveil a thousand-year-old plot to rule the galaxy, the Republic crumbles and from its ashes rises the evil Galactic Empire. Jedi hero Anakin Skywalker is seduced by the dark side of the Force to become the Emperor's new apprentice - Darth Vader. The Jedi are decimated, as Obi-Wan Kenobi\", 'genre': 'Fantasy', 'homepage': 'http://www.starwars.com/movies/episode-iii/', 'id': '1895', 'imageUrl': 'http://cf1.imgobject.com/posters/5f9/4bc913cc017a3c57fe0075f9/star-wars-episode-iii-revenge-of-the-sith-mid.jpg', 'imdbId': 'tt0121766', 'label': 'Star Wars: Episode III: Revenge of the Sith', 'language': 'en', 'lastModified': '1302039336000', 'releaseDate': '1116453600000', 'released': '2000-2010', 'runtime': 140, 'studio': 'Lucasfilm', 'tagline': 'The saga is complete.', 'title': 'Star Wars: Episode III: Revenge of the Sith', 'trailer': 'http://www.youtube.com/watch?v=xL9wcGO6oBA', 'type': 'Movie', 'version': 362}\n",
            "{'_key': '13892', '_id': 'imdb_vertices/13892', '_rev': '_apmGt9C-DS', 'description': 'The prospects for continuing life on Earth in the year 2058 are grim. So the Robinsons are launched into space to colonize Alpha Prime, the only other inhabitable planet in the galaxy. But when a stowaway sabotages the mission, the Robinsons find themselves hurtling through uncharted space.', 'genre': 'Action', 'homepage': '', 'id': '2157', 'imageUrl': 'http://cf1.imgobject.com/posters/5b5/4d419e977b9aa15bb00035b5/lost-in-space-mid.jpg', 'imdbId': 'tt0120738', 'label': 'Lost in Space', 'language': 'en', 'lastModified': '1301901918000', 'releaseDate': '891554400000', 'released': '1990-2000', 'runtime': 130, 'studio': 'New Line Cinema', 'tagline': 'Danger, Will Robinson!', 'title': 'Lost in Space', 'type': 'Movie', 'version': 221}\n",
            "{'_key': '54247', '_id': 'imdb_vertices/54247', '_rev': '_apmG6-6-_C', 'description': \"SG-1 searches for an ancient weapon which could help them defeat the Ori, and discover it may be in the Ori's own home galaxy. As the Ori prepare to send ships through to the Milky Way to attack Earth, SG-1 travels to the Ori galaxy aboard the Odyssey. The International Oversight committee have their own plans and SG-1 finds themselves in a distant galaxy fighting two powerful enemies.\", 'genre': 'Action', 'homepage': '', 'id': '13001', 'imageUrl': 'http://cf1.imgobject.com/posters/640/4bc93a8a017a3c57fe018640/stargate-the-ark-of-truth-mid.jpg', 'imdbId': 'tt0942903', 'label': 'Stargate: The Ark of Truth', 'language': 'en', 'lastModified': '1301902880000', 'releaseDate': '1205190000000', 'released': '2000-2010', 'runtime': 102, 'studio': 'Metro-Goldwyn-Mayer', 'tagline': '', 'title': 'Stargate: The Ark of Truth', 'type': 'Movie', 'version': 248}\n",
            "{'_key': '31592', '_id': 'imdb_vertices/31592', '_rev': '_apmG6EW-D_', 'description': '\"Barbarella\" tells the story of a female mercenary who roams across the universe in a distant future, undertaking missions that require her physical fearlessness, ingenuity and sensuality. In travels that span galaxies known and unknown, \"Barbarella\" will challenge tradition, startle the senses and take audiences on an epic adventure of discovery and wonder. ', 'genre': 'Action', 'homepage': '', 'id': '8069', 'imageUrl': 'http://cf1.imgobject.com/posters/08c/4c13fd9d7b9aa1045900008c/barbarella-mid.jpg', 'imdbId': 'tt0062711', 'label': 'Barbarella', 'language': 'en', 'lastModified': '1301903140000', 'releaseDate': '-38710800000', 'released': '1960-1970', 'runtime': 98, 'studio': 'Dino de Laurentiis Cinematografica', 'tagline': 'See Barbarella do her thing!', 'title': 'Barbarella', 'trailer': 'http://www.youtube.com/watch?v=SsPkQt2H4YQ', 'type': 'Movie', 'version': 203}\n",
            "{'_key': '38771', '_id': 'imdb_vertices/38771', '_rev': '_apmG6K2-Bp', 'description': 'The time is the distant future, where by far the most precious commodity in the galaxy is water. The last surviving water planet was somehow removed to the unreachable centre of the galaxy at the end of the galactic trade wars. The galaxy is ruled by an evil emperor (John Carradine) presiding over a trade oligarchy that controls all mining and sale of ice from asteroids and comets.', 'genre': 'Action', 'homepage': '', 'id': '10179', 'imageUrl': 'http://cf1.imgobject.com/posters/f8a/4bc92c86017a3c57fe011f8a/the-ice-pirates-mid.jpg', 'imdbId': 'tt0087451', 'label': 'The Ice Pirates', 'language': 'en', 'lastModified': '1301902166000', 'releaseDate': '448239600000', 'released': '1980-1990', 'runtime': 91, 'studio': 'Metro-Goldwyn-Mayer', 'tagline': 'A totally SPACED adventure! ...You have to be there to see it.', 'title': 'The Ice Pirates', 'trailer': 'http://www.youtube.com/watch?v=_0GTevGPLy0', 'type': 'Movie', 'version': 135}\n",
            "{'_key': '30837', '_id': 'imdb_vertices/30837', '_rev': '_apmG6Le-A4', 'description': 'Mere seconds before the Earth is to be demolished by an alien construction crew, Arthur Dent is swept off the planet by his friend Ford Prefect, a researcher penning a new edition of \"The Hitchhiker\\'s Guide to the Galaxy.\"', 'genre': 'Adventure', 'homepage': '', 'id': '7453', 'imageUrl': 'http://cf1.imgobject.com/posters/4e1/4bc91f31017a3c57fe00c4e1/the-hitchhiker-s-guide-to-the-galaxy-mid.jpg', 'imdbId': 'tt0371724', 'label': \"The Hitchhiker's Guide to the Galaxy\", 'language': 'en', 'lastModified': '1301901407000', 'releaseDate': '1113948000000', 'released': '2000-2010', 'runtime': 109, 'studio': 'Touchstone Pictures', 'tagline': '', 'title': \"The Hitchhiker's Guide to the Galaxy\", 'trailer': 'http://www.youtube.com/watch?v=MbGNcoB2Y4I', 'type': 'Movie', 'version': 235}\n",
            "{'_key': '55786', '_id': 'imdb_vertices/55786', '_rev': '_apmG6Li-BQ', 'description': 'The fate of the galaxy rests in the hands of bitter rivals. One, James Kirk, is a delinquent, thrill-seeking Iowa farm boy. The other, Spock, a Vulcan, was raised in a logic-based society that rejects all emotion. As fiery instinct clashes with calm reason, their unlikely but powerful partnership is the only thing capable of leading their crew through unimaginable danger, boldly going where no one has gone before. The human adventure has begun again.', 'genre': 'Science Fiction', 'homepage': 'http://www.startrekmovie.com/', 'id': '13475', 'imageUrl': 'http://cf1.imgobject.com/posters/89c/4c707d995e73d65f7b00089c/star-trek-mid.jpg', 'imdbId': 'tt0796366', 'label': 'Star Trek', 'language': 'en', 'lastModified': '1301900716000', 'releaseDate': '1241733600000', 'released': '2000-2010', 'runtime': 126, 'studio': 'Paramount Pictures', 'tagline': 'The future begins.', 'title': 'Star Trek', 'trailer': 'http://www.youtube.com/watch?v=AWkx9m3x-ak', 'type': 'Movie', 'version': 632}\n",
            "{'_key': '53260', '_id': 'imdb_vertices/53260', '_rev': '_apmG6Qi-_r', 'description': \"Just before bounty hunter Charile triggers his gun to destroy the last two Critter-eggs, he gets a message that it would be illegal to extinguish the race from the galaxy. He's sent a transporter where he puts the eggs - unfortunately the transporter takes him with it and then gets lost in space.\", 'genre': 'Comedy', 'homepage': '', 'id': '12525', 'imageUrl': 'http://cf1.imgobject.com/posters/d99/4bc9396d017a3c57fe017d99/critters-4-mid.jpg', 'imdbId': 'tt0101628', 'label': 'Critters 4', 'language': 'en', 'lastModified': '1301902285000', 'releaseDate': '662684400000', 'released': '1990-2000', 'runtime': 100, 'tagline': '', 'title': 'Critters 4', 'type': 'Movie', 'version': 85}\n",
            "{'_key': '40159', '_id': 'imdb_vertices/40159', '_rev': '_apmG6R---u', 'description': 'In stifling Edwardian London, Wendy Darling mesmerizes her brothers every night with bedtime tales of swordplay, swashbuckling and the fearsome Captain Hook. But the children become the heroes of an even greater story, when Peter Pan flies into their nursery one night and leads them over moonlit rooftops through a galaxy of stars and to the lush jungles of Neverland. ', 'genre': 'Action', 'homepage': '', 'id': '10601', 'imageUrl': 'http://cf1.imgobject.com/posters/393/4bc92f37017a3c57fe013393/peter-pan-mid.jpg', 'imdbId': 'tt0316396', 'label': 'Peter Pan', 'language': 'en', 'lastModified': '1301907559000', 'releaseDate': '1070924400000', 'released': '2000-2010', 'runtime': 113, 'studio': 'Quinta Communications', 'tagline': 'All children grow up except one.', 'title': 'Peter Pan', 'trailer': 'http://www.youtube.com/watch?v=1733', 'type': 'Movie', 'version': 244}\n",
            "{'_key': '67145', '_id': 'imdb_vertices/67145', '_rev': '_apmHFTS-_a', 'description': \"In a galaxy far away, alien criminals organize a spectacular prison break. Pursued by their home planet's authorities, their leader Zin decides there's only one place to go: through a wormhole that allows instantaneous travel to Earth. Cole is the Alien Tracker who's in hot pursuit of the escaped convicts.\", 'genre': 'Action', 'homepage': '', 'id': '17805', 'imageUrl': 'http://cf1.imgobject.com/posters/9ba/4bc950b2017a3c57fe0239ba/alien-tracker-mid.jpg', 'imdbId': 'tt0481932', 'label': 'Alien Tracker', 'language': 'en', 'lastModified': '1301907516000', 'releaseDate': '-2208992400000', 'released': '1900-1910', 'runtime': 103, 'tagline': '', 'title': 'Alien Tracker', 'type': 'Movie', 'version': 392}\n",
            "{'_key': '61750', '_id': 'imdb_vertices/61750', '_rev': '_apmHFU--Bn', 'description': 'The continuing adventures of Lilo, a little Hawaiian girl, and Stitch, the galaxy\\'s most wanted extraterrestrial. Stitch, Pleakley, and Dr. Jumba are all part of the household now. But what Lilo and Stitch don\\'t know is that Dr. Jumba brought one of his alien \"experiments\" to Hawaii.', 'genre': 'Animation', 'homepage': '', 'id': '15567', 'imageUrl': 'http://cf1.imgobject.com/posters/626/4d3904b77b9aa1614e000626/stitch-the-movie-mid.jpg', 'imdbId': 'tt0348124', 'label': 'Stitch! The Movie', 'language': 'en', 'lastModified': '1301903075000', 'releaseDate': '1061848800000', 'released': '2000-2010', 'runtime': 60, 'tagline': 'Stitch was Experiment 626...meet the other 625!', 'title': 'Stitch! The Movie', 'type': 'Movie', 'version': 226}\n",
            "{'_key': '70212', '_id': 'imdb_vertices/70212', '_rev': '_apmHFUC-CL', 'description': 'A lawman from another galaxy must stop an invading force from building a gateway to planet Earth.', 'genre': 'Action', 'homepage': '', 'id': '19279', 'imageUrl': 'http://cf1.imgobject.com/posters/713/4bc95617017a3c57fe026713/alien-agent-mid.jpg', 'imdbId': 'tt0820466', 'label': 'Alien Agent', 'language': 'en', 'lastModified': '1301905015000', 'releaseDate': '1167606000000', 'released': '2000-2010', 'runtime': 95, 'studio': 'Alien Films', 'tagline': '', 'title': 'Alien Agent', 'trailer': 'http://www.youtube.com/watch?v=1925', 'type': 'Movie', 'version': 73}\n",
            "{'_key': '60953', '_id': 'imdb_vertices/60953', '_rev': '_apmHFZy-BL', 'description': \"In the future, one can achieve immortality by obtaining a mechanized body. Orphaned, young Tetsuro hitches a ride on the space train Galaxy Express 999 in the hope of obtaining a cyborg body to avenge his mother's death. Along the way, he meets Matael, who is the spitting image of his dead mother.\", 'genre': 'Animation', 'homepage': '', 'id': '15227', 'imageUrl': 'http://cf1.imgobject.com/posters/82c/4bc9466c017a3c57fe01e82c/999-mid.jpg', 'imdbId': 'tt0080772', 'label': 'Galaxy Express 999', 'language': 'en', 'lastModified': '1302039767000', 'releaseDate': '302569200000', 'released': '1970-1980', 'runtime': 128, 'studio': 'The Ocean Group', 'tagline': '', 'title': 'Galaxy Express 999', 'type': 'Movie', 'version': 72}\n",
            "{'_key': '69170', '_id': 'imdb_vertices/69170', '_rev': '_apmHFaS-_R', 'description': \"Three decades after the great war between the humans and the Zentradi, the U.N. government is developing new technologies to use in their transforming fighter aircraft by running tests on the colony planet Eden. Military test pilots and former childhood friends, loose cannon Isamu Alva Dyson and the Zentradi mixed race Guld Goa Bowman, are selected to each pilot a new aircraft (Shinsei Industries' YF-19 & General Galaxy's YF-21) for Project Super Nova, to choose the newest successor to the VF-11\", 'homepage': 'http://www.macross.co.jp/', 'id': '18837', 'imageUrl': 'http://cf1.imgobject.com/posters/a5e/4bc954a3017a3c57fe025a5e/macross-plus-mid.jpg', 'imdbId': 'tt0110426', 'label': 'Macross Plus', 'language': 'en', 'lastModified': '1301417671000', 'releaseDate': '793926000000', 'released': '1990-2000', 'runtime': 115, 'studio': 'Bandai Visual Company (JAPAN)', 'tagline': '', 'title': 'Macross Plus', 'type': 'Movie', 'version': 106}\n"
          ],
          "name": "stdout"
        }
      ]
    },
    {
      "cell_type": "markdown",
      "metadata": {
        "id": "5_odf-YL8KnP",
        "colab_type": "text"
      },
      "source": [
        "## Ranking and Document Relevance"
      ]
    },
    {
      "cell_type": "markdown",
      "metadata": {
        "id": "r28jaPHQ8KnQ",
        "colab_type": "text"
      },
      "source": [
        "Great, now we can identify documents containing a specific phrase,\n",
        "but especially with large document bases we need to be able to rank documents based on the their relevance.\n",
        "ArangoSearch supports the following two schemes:\n",
        "\n",
        "* [Okapi BM25](https://en.wikipedia.org/wiki/Okapi_BM25)\n",
        "\n",
        "* [TFIDF](https://en.wikipedia.org/wiki/Tf%E2%80%93idf)\n",
        "\n",
        "You can learn more about ranking in the [documentation](https://www.arangodb.com/docs/3.6/aql/functions-arangosearch.html#scoring-functions)."
      ]
    },
    {
      "cell_type": "markdown",
      "metadata": {
        "id": "xaHKlz4i8KnQ",
        "colab_type": "text"
      },
      "source": [
        "So let us find movies with the following key-words: “amazing, action, world, alien, sci-fi, science, documental, galaxy”"
      ]
    },
    {
      "cell_type": "code",
      "metadata": {
        "id": "X--MngEQ8KnQ",
        "colab_type": "code",
        "colab": {
          "base_uri": "https://localhost:8080/",
          "height": 207
        },
        "outputId": "fd5a6fde-347c-4391-9072-9e6f2bd55596"
      },
      "source": [
        "cursor = database.aql.execute(\n",
        "  \"\"\"\n",
        "  FOR d IN v_imdb \n",
        "    SEARCH ANALYZER(\n",
        "      d.description \n",
        "      IN TOKENS('amazing action world alien sci-fi science documental galaxy', \n",
        "      'text_en'), \n",
        "      'text_en'\n",
        "      ) \n",
        "    SORT BM25(d) DESC \n",
        "    LIMIT 10 \n",
        "    RETURN {\n",
        "      \"title\": d.title, \n",
        "      \"description\" : d.description\n",
        "      }\n",
        "    \"\"\"\n",
        ")\n",
        "# Iterate through the result cursor\n",
        "for doc in cursor:\n",
        "  print(doc)"
      ],
      "execution_count": 47,
      "outputs": [
        {
          "output_type": "stream",
          "text": [
            "{'title': 'AVPR: Aliens vs. Predator - Requiem', 'description': \"Prepare for more mayhem as warring aliens and predators return for Round 2 of their no-holds-barred slugfest. This time, the intergalactic creatures do battle in a small American town, throwing local residents into harm's way. To save the planet, the humans must oust both types of unwelcome guests. This sci-fi sequel features tons of spectacular action sequences full of nifty new gadgets and gooey monster gore.\"}\n",
            "{'title': 'Moon 44', 'description': 'In 2038, at a remote outpost on Moon 44, Galactic Mining Corp. agent Felix Stone (Michael Paré) embarks on a dangerous mission to stop the hijacking of precious natural resources needed on Earth. To do so, he must battle a familiar foe and an alien enemy. Malcolm McDowell, Lisa Eichhorn and Dean Devlin star in this sci-fi thriller from action director Roland Emmerich (Independence Day).'}\n",
            "{'title': 'Dark Star', 'description': 'A low-budget, sci-fi satire that focuses on a group of scientists whose mission is to destroy unstable planets. 20 years into their mission, they have battle their alien mascot, that resembles a beach ball, as well as a \"sensitive\" and intelligent bombing device that starts to question the meaning of its existence.'}\n",
            "{'title': 'Starship Troopers 2: Hero of the Federation', 'description': \"In the sequel to Paul Verhoeven's loved/reviled sci-fi film, a group of troopers taking refuge in an abandoned outpost after fighting alien bugs, failing to realize that more danger lays in wait.\"}\n",
            "{'title': 'Push', 'description': 'The action packed sci-fi thriller involves a group of young American ex-pats with telekinetic and clairvoyant abilities, hiding from a clandestine U.S. government agency. They must utilize their different talents and band together for a final job enabling them to escape the agency forever.'}\n",
            "{'title': 'Casshern', 'description': 'Live-action sci-fi movie based on a 1973 Japanese animé of the same name.'}\n",
            "{'title': 'Puzzlehead', 'description': 'In a post apocalyptic world where technology is outlawed, Walter, a reclusive scientist, secretly creates a self-aware android, \"Puzzlehead\". Jealously erupts when Puzzlehead wins the affection of Julia, the beautiful shopgirl that Walter has longed for. The resulting Sci-Fi love triangle is a Frankensteinian fable that traps all three in a web of deception and the ultimate betrayal.'}\n",
            "{'title': 'Cesta do pravěku', 'description': 'Most classical sci-fi from K. Zeman. Four young boys visit a dinosaur exhibit at the New York city Museum of Natural History. They then row out onto Central Park Lake where they find a secret cave and paddle into, and go back-in-time into a wondrous prehistoric world filled with the very dinosaurs they had just seen.'}\n",
            "{'title': 'Interstella 5555: The 5tory of the 5ecret 5tar 5ystem', 'description': 'A sci-fi japanimation House-musical movie collaboration between Daft Punk--and their music--and designer Leiji Matsumoto. During the recording of their DISCOVERY album and using the themes of sci-fi celebrity, decadence and space travel, Daft Punk--with help from Cedric Hervet--wrote the story and inspired seasoned Japanese animators to symbiotically create this stunning space musical.'}\n",
            "{'title': 'Alien Planet', 'description': \"The dynamic meeting of solid science and futuristic simulation culminates in a dramatic exploration to another inhabited planet seven light years away. Alien Planet creates a realistic depiction of creatures on another world, where life is possible, if not provable, according to scientists' theories. Take this fascinating journey created by state-of-the-art animation and photo-realistic effects.\"}\n"
          ],
          "name": "stdout"
        }
      ]
    },
    {
      "cell_type": "markdown",
      "metadata": {
        "id": "cO8ML2uL8KnS",
        "colab_type": "text"
      },
      "source": [
        "Another crucial point of ArangoSearch is the ability to fine-tune document scores evaluated by relevance models at query time. That functionality is exposed in AQL via the BOOST function.\n",
        "So let us tweak our previous query to prefer “galaxy” amongst the others keywords."
      ]
    },
    {
      "cell_type": "code",
      "metadata": {
        "id": "a700mbyw8KnS",
        "colab_type": "code",
        "colab": {
          "base_uri": "https://localhost:8080/",
          "height": 207
        },
        "outputId": "e6e8b565-84be-4ddc-fcd5-3b4713f9a7a7"
      },
      "source": [
        "cursor = database.aql.execute(\n",
        "\"\"\"\n",
        "  FOR d IN v_imdb \n",
        "    SEARCH ANALYZER(\n",
        "      d.description \n",
        "      IN TOKENS('amazing action world alien sci-fi science documental', \n",
        "      'text_en'\n",
        "      ) \n",
        "    ||\n",
        "    BOOST(\n",
        "      d.description \n",
        "      IN TOKENS('galaxy', \n",
        "      'text_en'), \n",
        "      5), \n",
        "      'text_en'\n",
        "      ) \n",
        "    SORT BM25(d) DESC \n",
        "    LIMIT 10 \n",
        "    RETURN {\n",
        "      \"title\": d.title, \n",
        "      \"description\" : d.description\n",
        "      }\n",
        "\"\"\"\n",
        ")\n",
        "# Iterate through the result cursor\n",
        "for doc in cursor:\n",
        "  print(doc)"
      ],
      "execution_count": 48,
      "outputs": [
        {
          "output_type": "stream",
          "text": [
            "{'title': 'Star Trek Collection', 'description': 'Star Trek a futuristic science fiction franchise. With a space ship that can travel faster than the speed of light, galaxies to explore, and cool skin tight suits to beam up in, Star Trek has been, since the 1960’s, a series of Films, various TV series, video games, the host of many spin-offs, and the possibly the first to use the cell phone. Star Trek fans are some of the most devout.'}\n",
            "{'title': 'Alien Tracker', 'description': \"In a galaxy far away, alien criminals organize a spectacular prison break. Pursued by their home planet's authorities, their leader Zin decides there's only one place to go: through a wormhole that allows instantaneous travel to Earth. Cole is the Alien Tracker who's in hot pursuit of the escaped convicts.\"}\n",
            "{'title': 'Stitch! The Movie', 'description': 'The continuing adventures of Lilo, a little Hawaiian girl, and Stitch, the galaxy\\'s most wanted extraterrestrial. Stitch, Pleakley, and Dr. Jumba are all part of the household now. But what Lilo and Stitch don\\'t know is that Dr. Jumba brought one of his alien \"experiments\" to Hawaii.'}\n",
            "{'title': \"The Hitchhiker's Guide to the Galaxy\", 'description': 'Mere seconds before the Earth is to be demolished by an alien construction crew, Arthur Dent is swept off the planet by his friend Ford Prefect, a researcher penning a new edition of \"The Hitchhiker\\'s Guide to the Galaxy.\"'}\n",
            "{'title': 'Stargate: The Ark of Truth', 'description': \"SG-1 searches for an ancient weapon which could help them defeat the Ori, and discover it may be in the Ori's own home galaxy. As the Ori prepare to send ships through to the Milky Way to attack Earth, SG-1 travels to the Ori galaxy aboard the Odyssey. The International Oversight committee have their own plans and SG-1 finds themselves in a distant galaxy fighting two powerful enemies.\"}\n",
            "{'title': 'The Ice Pirates', 'description': 'The time is the distant future, where by far the most precious commodity in the galaxy is water. The last surviving water planet was somehow removed to the unreachable centre of the galaxy at the end of the galactic trade wars. The galaxy is ruled by an evil emperor (John Carradine) presiding over a trade oligarchy that controls all mining and sale of ice from asteroids and comets.'}\n",
            "{'title': 'Star Wars: Episode III: Revenge of the Sith', 'description': \"(19 Years before Episode IV) Three years after the onset of the Clone Wars, the noble Jedi Knights have been leading a massive clone army into a galaxy-wide battle against the Separatists. When the sinister Sith unveil a thousand-year-old plot to rule the galaxy, the Republic crumbles and from its ashes rises the evil Galactic Empire. Jedi hero Anakin Skywalker is seduced by the dark side of the Force to become the Emperor's new apprentice - Darth Vader. The Jedi are decimated, as Obi-Wan Kenobi\"}\n",
            "{'title': 'Star Wars: Episode II - Attack of the Clones', 'description': '(22 Years Before Episode IV) Ten years after the events of the Battle of Naboo, not only has the galaxy undergone significant change, but so have Obi-Wan Kenobi, Padmé Amidala, and Anakin Skywalker as they are thrown together again for the first time since the Trade Federation invasion of Naboo. Anakin has grown into the accomplished Jedi apprentice of Obi-Wan, who himself has transitioned from student to teacher. The two Jedi are assigned to protect Padmé whose life is threatened by a faction o'}\n",
            "{'title': 'Macross Plus', 'description': \"Three decades after the great war between the humans and the Zentradi, the U.N. government is developing new technologies to use in their transforming fighter aircraft by running tests on the colony planet Eden. Military test pilots and former childhood friends, loose cannon Isamu Alva Dyson and the Zentradi mixed race Guld Goa Bowman, are selected to each pilot a new aircraft (Shinsei Industries' YF-19 & General Galaxy's YF-21) for Project Super Nova, to choose the newest successor to the VF-11\"}\n",
            "{'title': 'Star Trek', 'description': 'The fate of the galaxy rests in the hands of bitter rivals. One, James Kirk, is a delinquent, thrill-seeking Iowa farm boy. The other, Spock, a Vulcan, was raised in a logic-based society that rejects all emotion. As fiery instinct clashes with calm reason, their unlikely but powerful partnership is the only thing capable of leading their crew through unimaginable danger, boldly going where no one has gone before. The human adventure has begun again.'}\n"
          ],
          "name": "stdout"
        }
      ]
    },
    {
      "cell_type": "markdown",
      "metadata": {
        "id": "IEH4TMs38KnU",
        "colab_type": "text"
      },
      "source": [
        "## ArangoSearch Meets Graph"
      ]
    },
    {
      "cell_type": "markdown",
      "metadata": {
        "id": "AZI9n9mq8KnU",
        "colab_type": "text"
      },
      "source": [
        "One of the coolest features of ArangoDB, being a multi-model database, is that we can combine different data-model and query capabilites.\n",
        "So, for example, we can easily combine ArangoSearch with a Graph traversal. Recall that our imdb dataset is a graph with edges connecting \n",
        "the movies we have been looking at to their respective actors, genres, or directors. Let us explore this and look up the director for each each of the Sci-fi movies above."
      ]
    },
    {
      "cell_type": "code",
      "metadata": {
        "id": "Q4z6RdVy8KnU",
        "colab_type": "code",
        "colab": {
          "base_uri": "https://localhost:8080/",
          "height": 119
        },
        "outputId": "c76c27d7-3829-46cd-bf1c-48859b3fcb9e"
      },
      "source": [
        "cursor = database.aql.execute(\n",
        "\"\"\"\n",
        "FOR d IN v_imdb \n",
        "   SEARCH ANALYZER(\n",
        "     d.description \n",
        "     IN TOKENS('amazing action world alien sci-fi science documental', \n",
        "     'text_en'\n",
        "     ) \n",
        "     ||\n",
        "   BOOST(\n",
        "     d.description \n",
        "     IN TOKENS('galaxy', 'text_en'), \n",
        "     5), \n",
        "     'text_en'\n",
        "     ) \n",
        "     \n",
        "   SORT BM25(d) DESC \n",
        "\n",
        "   LIMIT 10 \n",
        "\n",
        "     FOR vertex, edge, path \n",
        "      IN 1..1 INBOUND  \n",
        "      d imdb_edges\n",
        "      FILTER path.edges[0].$label == \"DIRECTED\"\n",
        "      RETURN DISTINCT {\n",
        "        \"director\" : vertex.name, \n",
        "        \"movie\" : d.title\n",
        "        } \n",
        "\"\"\"\n",
        ")\n",
        "# Iterate through the result cursor\n",
        "for doc in cursor:\n",
        "  print(doc)"
      ],
      "execution_count": 49,
      "outputs": [
        {
          "output_type": "stream",
          "text": [
            "{'director': 'Garth Jennings', 'movie': \"The Hitchhiker's Guide to the Galaxy\"}\n",
            "{'director': 'Robert C. Cooper', 'movie': 'Stargate: The Ark of Truth'}\n",
            "{'director': 'Stewart Raffill', 'movie': 'The Ice Pirates'}\n",
            "{'director': 'George Lucas', 'movie': 'Star Wars: Episode III: Revenge of the Sith'}\n",
            "{'director': 'George Lucas', 'movie': 'Star Wars: Episode II - Attack of the Clones'}\n",
            "{'director': 'J.J. Abrams', 'movie': 'Star Trek'}\n"
          ],
          "name": "stdout"
        }
      ]
    },
    {
      "cell_type": "markdown",
      "metadata": {
        "id": "tWpH7oVb8KnW",
        "colab_type": "text"
      },
      "source": [
        "# Further Links"
      ]
    },
    {
      "cell_type": "markdown",
      "metadata": {
        "id": "dP0KpLrK8KnW",
        "colab_type": "text"
      },
      "source": [
        "* https://www.arangodb.com/docs/stable/arangosearch.html\n",
        "\n",
        "* https://www.arangodb.com/arangodb-training-center/search/arangosearch/"
      ]
    }
  ]
}