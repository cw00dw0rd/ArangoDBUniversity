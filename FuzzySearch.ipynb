{
  "nbformat": 4,
  "nbformat_minor": 0,
  "metadata": {
    "kernelspec": {
      "name": "python3",
      "display_name": "Python 3"
    },
    "colab": {
      "name": "FuzzySearch.ipynb",
      "provenance": [],
      "toc_visible": true
    }
  },
  "cells": [
    {
      "cell_type": "markdown",
      "metadata": {
        "id": "bfxiSjWR8Kmw",
        "colab_type": "text"
      },
      "source": [
        "![arangodb](https://github.com/joerg84/ArangoDBUniversity/blob/master/img/ArangoDB_logo.png?raw=1)"
      ]
    },
    {
      "cell_type": "markdown",
      "metadata": {
        "id": "VE3KR8sW8Kmw",
        "colab_type": "text"
      },
      "source": [
        "# Fuzzy Search "
      ]
    },
    {
      "cell_type": "markdown",
      "metadata": {
        "id": "c3DiEFJE8Kmx",
        "colab_type": "text"
      },
      "source": [
        "<a href=\"https://colab.research.google.com/github/joerg84/ArangoDBUniversity/blob/master/FuzzySearch.ipynb\" target=\"_parent\"><img src=\"https://colab.research.google.com/assets/colab-badge.svg\" alt=\"Open In Colab\"/></a>"
      ]
    },
    {
      "cell_type": "markdown",
      "metadata": {
        "id": "4o7Vn4Uo8Kmy",
        "colab_type": "text"
      },
      "source": [
        "ArangoSearch provides information retrieval features, natively integrated into ArangoDB’s query language and with support for all data models. It is primarily a full-text search engine, a much more powerful alternative to the full-text index type.\n",
        "Check this [ArangoSearch notebook](https://colab.research.google.com/github/joerg84/ArangoDBUniversity/blob/master/ArangoSearch.ipynb) for an introduction to ArangoSearch.\n",
        "\n",
        "When dealing with real-world text retrieval, we often not only care about exact matches to our search phrase but need to consider for example typos or alternative spellings.\n",
        "“Fuzzy search” is an umbrella term referring to a set of algorithms for such approximate matching. Usually such algorithms evaluate some similarity measure showing how close a search term is to the items in a dictionary. Then a search engine can make a decision on which results have to be shown first.\n",
        "\n",
        "In this notebook we will apply at two different implementation of fuzzy search in [ArangoSearch](https://www.arangodb.com/why-arangodb/full-text-search-engine-arangosearch/):\n",
        "* [Levenshtein distance](https://www.arangodb.com/docs/devel/aql/functions-arangosearch.html#levenshtein_match\n",
        ")\n",
        "* [NGram similarity](https://www.arangodb.com/docs/devel/aql/functions-arangosearch.html#ngram_match)"
      ]
    },
    {
      "cell_type": "markdown",
      "metadata": {
        "id": "ZlcbVfOs8Kmy",
        "colab_type": "text"
      },
      "source": [
        "# Setup "
      ]
    },
    {
      "cell_type": "markdown",
      "metadata": {
        "id": "uoIFBPwp8Kmy",
        "colab_type": "text"
      },
      "source": [
        "Before getting started with ArangoSearch we need to prepare our environment and create a temporary database on ArangoDB's managed Service Oasis."
      ]
    },
    {
      "cell_type": "code",
      "metadata": {
        "id": "uXdL1FZe8Kmz",
        "colab_type": "code",
        "colab": {}
      },
      "source": [
        "%%capture\n",
        "!git clone https://github.com/joerg84/ArangoDBUniversity.git\n",
        "!rsync -av ArangoDBUniversity/ ./ --exclude=.git\n",
        "!pip3 install pyarango\n",
        "!pip3 install \"python-arango>=5.0\""
      ],
      "execution_count": 0,
      "outputs": []
    },
    {
      "cell_type": "code",
      "metadata": {
        "id": "1pKXjdTS8Km2",
        "colab_type": "code",
        "colab": {}
      },
      "source": [
        "import json\n",
        "import requests\n",
        "import sys\n",
        "import oasis\n",
        "import time\n",
        "\n",
        "from pyArango.connection import *\n",
        "from arango import ArangoClient"
      ],
      "execution_count": 0,
      "outputs": []
    },
    {
      "cell_type": "markdown",
      "metadata": {
        "id": "6968hvSs8Km3",
        "colab_type": "text"
      },
      "source": [
        "Create the temporary database:"
      ]
    },
    {
      "cell_type": "code",
      "metadata": {
        "id": "TaGHLin28Km4",
        "colab_type": "code",
        "colab": {}
      },
      "source": [
        "# Retrieve tmp credentials from ArangoDB Tutorial Service\n",
        "login = oasis.getTempCredentials(tutorialName=\"ArangoSearchIMDBTutorial\", credentialProvider=\"https://d383fa0b596a.arangodb.cloud:8529/_db/_system/tutorialDB/tutorialDB\")\n",
        "\n",
        "# Connect to the temp database\n",
        "# Please note that we use the python-arango driver as it has better support for ArangoSearch \n",
        "database = oasis.connect_python_arango(login)"
      ],
      "execution_count": 0,
      "outputs": []
    },
    {
      "cell_type": "code",
      "metadata": {
        "id": "ECAfpWU48Km6",
        "colab_type": "code",
        "colab": {}
      },
      "source": [
        "print(\"https://\"+login[\"hostname\"]+\":\"+str(login[\"port\"]))\n",
        "print(\"Username: \" + login[\"username\"])\n",
        "print(\"Password: \" + login[\"password\"])\n",
        "print(\"Database: \" + login[\"dbName\"])"
      ],
      "execution_count": 0,
      "outputs": []
    },
    {
      "cell_type": "markdown",
      "metadata": {
        "id": "xZ0mydlq8Km8",
        "colab_type": "text"
      },
      "source": [
        "Feel free to use to above URL to checkout the WebUI!"
      ]
    },
    {
      "cell_type": "markdown",
      "metadata": {
        "id": "_vXqUK6L8Km9",
        "colab_type": "text"
      },
      "source": [
        "##  IMDB Example Dataset"
      ]
    },
    {
      "cell_type": "markdown",
      "metadata": {
        "id": "o9JQShDi8Km9",
        "colab_type": "text"
      },
      "source": [
        "![imdb](https://github.com/joerg84/ArangoDBUniversity/blob/master/img/IMDB_graph.png?raw=1)"
      ]
    },
    {
      "cell_type": "markdown",
      "metadata": {
        "id": "SXkaey-g8Km9",
        "colab_type": "text"
      },
      "source": [
        "Last, but not least we will import the [IMBD Example Dataset](https://github.com/arangodb/example-datasets/tree/master/Graphs/IMDB) including information about various movies, actors, directors, ... as a graph. \n",
        "*Note the included arangorestore will only work on Linux or Windows systems, if you want to run this notebook on a different OS please consider using the appropriate arangorestore from the [Download area](https://www.arangodb.com/download-major/)."
      ]
    },
    {
      "cell_type": "markdown",
      "metadata": {
        "id": "bKM6jcXa8Km-",
        "colab_type": "text"
      },
      "source": [
        "## Linux:"
      ]
    },
    {
      "cell_type": "code",
      "metadata": {
        "id": "VPqigG8H8Km-",
        "colab_type": "code",
        "colab": {}
      },
      "source": [
        "! ./tools/arangorestore -c none --server.endpoint http+ssl://{login[\"hostname\"]}:{login[\"port\"]} --server.username {login[\"username\"]} --server.database {login[\"dbName\"]} --server.password {login[\"password\"]} --default-replication-factor 3  --input-directory \"data/imdb\""
      ],
      "execution_count": 0,
      "outputs": []
    },
    {
      "cell_type": "markdown",
      "metadata": {
        "id": "9yE_uMym8KnA",
        "colab_type": "text"
      },
      "source": [
        "# Create First View"
      ]
    },
    {
      "cell_type": "markdown",
      "metadata": {
        "id": "GhQynyJJ8KnB",
        "colab_type": "text"
      },
      "source": [
        "As discussed above, an ArangoSearch view contains references to documents stored in different collections. \n",
        "This makes it possible to perform complex federated searches, even over a complete graph including vertex and edge collections."
      ]
    },
    {
      "cell_type": "code",
      "metadata": {
        "id": "B-koXo6C8KnB",
        "colab_type": "code",
        "colab": {}
      },
      "source": [
        "# Create an ArangoSearch view.\n",
        "database.create_arangosearch_view(\n",
        "    name='v_imdb',\n",
        "    properties={'cleanupIntervalStep': 0}\n",
        ")"
      ],
      "execution_count": 0,
      "outputs": []
    },
    {
      "cell_type": "markdown",
      "metadata": {
        "id": "Dn3rKYKG8KnD",
        "colab_type": "text"
      },
      "source": [
        "Let us check it is actually there:"
      ]
    },
    {
      "cell_type": "code",
      "metadata": {
        "id": "J5bwOthX8KnD",
        "colab_type": "code",
        "colab": {}
      },
      "source": [
        "print(database[\"v_imdb\"])"
      ],
      "execution_count": 0,
      "outputs": []
    },
    {
      "cell_type": "markdown",
      "metadata": {
        "id": "a7RJtPcu8KnF",
        "colab_type": "text"
      },
      "source": [
        "As of now this view is empty, so we need to link it to a collection (i.e., imdb_vertices)."
      ]
    },
    {
      "cell_type": "code",
      "metadata": {
        "id": "IL8GQTtQ8KnF",
        "colab_type": "code",
        "colab": {}
      },
      "source": [
        " link = { \n",
        "  \"includeAllFields\": True,\n",
        "  \"fields\" : { \"description\" : { \"analyzers\" : [ \"text_en\" ] } }\n",
        "}\n",
        "\n",
        "database.update_arangosearch_view(\n",
        "    name='v_imdb',\n",
        "    properties={'links': { 'imdb_vertices': link }}\n",
        ")"
      ],
      "execution_count": 0,
      "outputs": []
    },
    {
      "cell_type": "markdown",
      "metadata": {
        "id": "tMZumewz8KnH",
        "colab_type": "text"
      },
      "source": [
        "As the indexing might take a few seconds, let us have a brief look at what is actually going on."
      ]
    },
    {
      "cell_type": "markdown",
      "metadata": {
        "id": "89Xus7i28KnI",
        "colab_type": "text"
      },
      "source": [
        "![ArangoSearch](https://github.com/joerg84/ArangoDBUniversity/blob/master/img/ArangoSearch_Arch.jpg?raw=1)"
      ]
    },
    {
      "cell_type": "markdown",
      "metadata": {
        "id": "k5XppaGr8KnI",
        "colab_type": "text"
      },
      "source": [
        "By now our view should be ready, so let us issue the first query and look for short Drama Movies."
      ]
    },
    {
      "cell_type": "code",
      "metadata": {
        "id": "s6fIUV9N8KnI",
        "colab_type": "code",
        "colab": {}
      },
      "source": [
        "cursor = database.aql.execute(\n",
        "  \"\"\"\n",
        "  FOR d IN v_imdb \n",
        "    SEARCH d.type == \"Movie\" \n",
        "    AND \n",
        "    d.genre == \"Drama\" \n",
        "    AND \n",
        "    d.runtime IN 10..50 \n",
        "    RETURN d.title\n",
        "  \"\"\"\n",
        ")\n",
        "# Iterate through the result cursor\n",
        "for doc in cursor:\n",
        "  print(doc)"
      ],
      "execution_count": 0,
      "outputs": []
    },
    {
      "cell_type": "markdown",
      "metadata": {
        "id": "eHR1LqTs8KnK",
        "colab_type": "text"
      },
      "source": [
        "## Levenshtein MATCH"
      ]
    },
    {
      "cell_type": "markdown",
      "metadata": {
        "id": "kn4WyyHN8KnL",
        "colab_type": "text"
      },
      "source": [
        "Proximity searching is a way to search for two or more words that occur within a certain number of words from each other.\n",
        "In the next example, we are looking for the word sequence \"in <any word> galaxy\" in the description of a movie.\n",
        "Feel free to try other values!"
      ]
    },
    {
      "cell_type": "code",
      "metadata": {
        "id": "MExWiwZV8KnL",
        "colab_type": "code",
        "colab": {}
      },
      "source": [
        "# Execute the query\n",
        "cursor = database.aql.execute(\n",
        "  \"\"\"\n",
        "  FOR d IN v_imdb \n",
        "  SEARCH PHRASE(\n",
        "    d.description, \n",
        "    \"in\", \n",
        "    1, \n",
        "    \"galaxy\", \n",
        "    \"text_en\"\n",
        "    ) \n",
        "    RETURN {\n",
        "      title: d.title, \n",
        "      description: d.description\n",
        "      }\n",
        "  \"\"\"\n",
        ")\n",
        "# Iterate through the result cursor\n",
        "for doc in cursor:\n",
        "  print(doc)"
      ],
      "execution_count": 0,
      "outputs": []
    },
    {
      "cell_type": "code",
      "metadata": {
        "id": "IYzxDnGn8KnM",
        "colab_type": "code",
        "colab": {}
      },
      "source": [
        "# Execute the query\n",
        "cursor = database.aql.execute(\n",
        "  \"\"\"\n",
        "  FOR doc IN v_imdb\n",
        "    SEARCH NGRAM_MATCH(\n",
        "      doc.description, \n",
        "      'galaxy', \n",
        "      'text_en'\n",
        "      )\n",
        "    RETURN doc\n",
        "  \"\"\"\n",
        ")\n",
        "# Iterate through the result cursor\n",
        "for doc in cursor:\n",
        "  print(doc)"
      ],
      "execution_count": 0,
      "outputs": []
    },
    {
      "cell_type": "markdown",
      "metadata": {
        "id": "5_odf-YL8KnP",
        "colab_type": "text"
      },
      "source": [
        "## Ranking and Document Relevance"
      ]
    },
    {
      "cell_type": "markdown",
      "metadata": {
        "id": "r28jaPHQ8KnQ",
        "colab_type": "text"
      },
      "source": [
        "Great, now we can identify documents containing a specific phrase,\n",
        "but especially with large document bases we need to be able to rank documents based on the their relevance.\n",
        "ArangoSearch supports the following two schemes:\n",
        "\n",
        "* [Okapi BM25](https://en.wikipedia.org/wiki/Okapi_BM25)\n",
        "\n",
        "* [TFIDF](https://en.wikipedia.org/wiki/Tf%E2%80%93idf)\n",
        "\n",
        "You can learn more about ranking in the [documentation](https://www.arangodb.com/docs/3.6/aql/functions-arangosearch.html#scoring-functions)."
      ]
    },
    {
      "cell_type": "markdown",
      "metadata": {
        "id": "xaHKlz4i8KnQ",
        "colab_type": "text"
      },
      "source": [
        "So let us find movies with the following key-words: “amazing, action, world, alien, sci-fi, science, documental, galaxy”"
      ]
    },
    {
      "cell_type": "code",
      "metadata": {
        "id": "X--MngEQ8KnQ",
        "colab_type": "code",
        "colab": {}
      },
      "source": [
        "cursor = database.aql.execute(\n",
        "  \"\"\"\n",
        "  FOR d IN v_imdb \n",
        "    SEARCH ANALYZER(\n",
        "      d.description \n",
        "      IN TOKENS('amazing action world alien sci-fi science documental galaxy', \n",
        "      'text_en'), \n",
        "      'text_en'\n",
        "      ) \n",
        "    SORT BM25(d) DESC \n",
        "    LIMIT 10 \n",
        "    RETURN {\n",
        "      \"title\": d.title, \n",
        "      \"description\" : d.description\n",
        "      }\n",
        "    \"\"\"\n",
        ")\n",
        "# Iterate through the result cursor\n",
        "for doc in cursor:\n",
        "  print(doc)"
      ],
      "execution_count": 0,
      "outputs": []
    },
    {
      "cell_type": "markdown",
      "metadata": {
        "id": "cO8ML2uL8KnS",
        "colab_type": "text"
      },
      "source": [
        "Another crucial point of ArangoSearch is the ability to fine-tune document scores evaluated by relevance models at query time. That functionality is exposed in AQL via the BOOST function.\n",
        "So let us tweak our previous query to prefer “galaxy” amongst the others keywords."
      ]
    },
    {
      "cell_type": "code",
      "metadata": {
        "id": "a700mbyw8KnS",
        "colab_type": "code",
        "colab": {}
      },
      "source": [
        "cursor = database.aql.execute(\n",
        "\"\"\"\n",
        "  FOR d IN v_imdb \n",
        "    SEARCH ANALYZER(\n",
        "      d.description \n",
        "      IN TOKENS('amazing action world alien sci-fi science documental', \n",
        "      'text_en'\n",
        "      ) \n",
        "    ||\n",
        "    BOOST(\n",
        "      d.description \n",
        "      IN TOKENS('galaxy', \n",
        "      'text_en'), \n",
        "      5), \n",
        "      'text_en'\n",
        "      ) \n",
        "    SORT BM25(d) DESC \n",
        "    LIMIT 10 \n",
        "    RETURN {\n",
        "      \"title\": d.title, \n",
        "      \"description\" : d.description\n",
        "      }\n",
        "\"\"\"\n",
        ")\n",
        "# Iterate through the result cursor\n",
        "for doc in cursor:\n",
        "  print(doc)"
      ],
      "execution_count": 0,
      "outputs": []
    },
    {
      "cell_type": "markdown",
      "metadata": {
        "id": "IEH4TMs38KnU",
        "colab_type": "text"
      },
      "source": [
        "## ArangoSearch Meets Graph"
      ]
    },
    {
      "cell_type": "markdown",
      "metadata": {
        "id": "AZI9n9mq8KnU",
        "colab_type": "text"
      },
      "source": [
        "One of the coolest features of ArangoDB, being a multi-model database, is that we can combine different data-model and query capabilites.\n",
        "So, for example, we can easily combine ArangoSearch with a Graph traversal. Recall that our imdb dataset is a graph with edges connecting \n",
        "the movies we have been looking at to their respective actors, genres, or directors. Let us explore this and look up the director for each each of the Sci-fi movies above."
      ]
    },
    {
      "cell_type": "code",
      "metadata": {
        "id": "Q4z6RdVy8KnU",
        "colab_type": "code",
        "colab": {}
      },
      "source": [
        "cursor = database.aql.execute(\n",
        "\"\"\"\n",
        "FOR d IN v_imdb \n",
        "   SEARCH ANALYZER(\n",
        "     d.description \n",
        "     IN TOKENS('amazing action world alien sci-fi science documental', \n",
        "     'text_en'\n",
        "     ) \n",
        "     ||\n",
        "   BOOST(\n",
        "     d.description \n",
        "     IN TOKENS('galaxy', 'text_en'), \n",
        "     5), \n",
        "     'text_en'\n",
        "     ) \n",
        "     \n",
        "   SORT BM25(d) DESC \n",
        "\n",
        "   LIMIT 10 \n",
        "\n",
        "     FOR vertex, edge, path \n",
        "      IN 1..1 INBOUND  \n",
        "      d imdb_edges\n",
        "      FILTER path.edges[0].$label == \"DIRECTED\"\n",
        "      RETURN DISTINCT {\n",
        "        \"director\" : vertex.name, \n",
        "        \"movie\" : d.title\n",
        "        } \n",
        "\"\"\"\n",
        ")\n",
        "# Iterate through the result cursor\n",
        "for doc in cursor:\n",
        "  print(doc)"
      ],
      "execution_count": 0,
      "outputs": []
    },
    {
      "cell_type": "markdown",
      "metadata": {
        "id": "tWpH7oVb8KnW",
        "colab_type": "text"
      },
      "source": [
        "# Further Links"
      ]
    },
    {
      "cell_type": "markdown",
      "metadata": {
        "id": "dP0KpLrK8KnW",
        "colab_type": "text"
      },
      "source": [
        "* https://www.arangodb.com/docs/stable/arangosearch.html\n",
        "\n",
        "* https://www.arangodb.com/arangodb-training-center/search/arangosearch/"
      ]
    }
  ]
}