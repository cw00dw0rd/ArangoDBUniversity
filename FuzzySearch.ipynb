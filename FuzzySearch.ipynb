{
 "cells": [
  {
   "cell_type": "markdown",
   "metadata": {
    "colab_type": "text",
    "id": "bfxiSjWR8Kmw"
   },
   "source": [
    "![arangodb](https://github.com/joerg84/ArangoDBUniversity/blob/master/img/ArangoDB_logo.png?raw=1)"
   ]
  },
  {
   "cell_type": "markdown",
   "metadata": {
    "colab_type": "text",
    "id": "VE3KR8sW8Kmw"
   },
   "source": [
    "# Fuzzy Search "
   ]
  },
  {
   "cell_type": "markdown",
   "metadata": {
    "colab_type": "text",
    "id": "c3DiEFJE8Kmx"
   },
   "source": [
    "<a href=\"https://colab.research.google.com/github/joerg84/ArangoDBUniversity/blob/master/FuzzySearch.ipynb\" target=\"_parent\"><img src=\"https://colab.research.google.com/assets/colab-badge.svg\" alt=\"Open In Colab\"/></a>"
   ]
  },
  {
   "cell_type": "markdown",
   "metadata": {
    "colab_type": "text",
    "id": "4o7Vn4Uo8Kmy"
   },
   "source": [
    "ArangoSearch provides information retrieval features, natively integrated into ArangoDB’s query language and with support for all data models. It is primarily a full-text search engine, a much more powerful alternative to the full-text index type.\n",
    "Check this [ArangoSearch notebook](https://colab.research.google.com/github/joerg84/ArangoDBUniversity/blob/master/ArangoSearch.ipynb) for an introduction to ArangoSearch.\n",
    "\n",
    "When dealing with real-world text retrieval, we often not only care about exact matches to our search phrase but need to consider for example typos or alternative spellings.\n",
    "“Fuzzy search” is an umbrella term referring to a set of algorithms for such approximate matching. Usually such algorithms evaluate some similarity measure showing how close a search term is to the items in a dictionary. Then a search engine can make a decision on which results have to be shown first.\n",
    "\n",
    "In this notebook we will apply at two different implementation of fuzzy search in [ArangoSearch](https://www.arangodb.com/why-arangodb/full-text-search-engine-arangosearch/):\n",
    "* [Levenshtein distance](https://www.arangodb.com/docs/devel/aql/functions-arangosearch.html#levenshtein_match\n",
    ")\n",
    "* [NGram similarity](https://www.arangodb.com/docs/devel/aql/functions-arangosearch.html#ngram_match)"
   ]
  },
  {
   "cell_type": "markdown",
   "metadata": {
    "colab_type": "text",
    "id": "ZlcbVfOs8Kmy"
   },
   "source": [
    "# Setup "
   ]
  },
  {
   "cell_type": "markdown",
   "metadata": {
    "colab_type": "text",
    "id": "uoIFBPwp8Kmy"
   },
   "source": [
    "Before getting started with ArangoSearch we need to prepare our environment and create a temporary database on ArangoDB's managed Service Oasis."
   ]
  },
  {
   "cell_type": "code",
   "execution_count": null,
   "metadata": {
    "colab": {},
    "colab_type": "code",
    "id": "uXdL1FZe8Kmz"
   },
   "outputs": [],
   "source": [
    "%%capture\n",
    "!git clone https://github.com/joerg84/ArangoDBUniversity.git\n",
    "!rsync -av ArangoDBUniversity/ ./ --exclude=.git\n",
    "!pip3 install pyarango\n",
    "!pip3 install \"python-arango>=5.0\""
   ]
  },
  {
   "cell_type": "code",
   "execution_count": null,
   "metadata": {
    "colab": {},
    "colab_type": "code",
    "id": "1pKXjdTS8Km2"
   },
   "outputs": [],
   "source": [
    "import json\n",
    "import requests\n",
    "import sys\n",
    "import oasis\n",
    "import time\n",
    "\n",
    "from pyArango.connection import *\n",
    "from arango import ArangoClient"
   ]
  },
  {
   "cell_type": "markdown",
   "metadata": {
    "colab_type": "text",
    "id": "6968hvSs8Km3"
   },
   "source": [
    "Create the temporary database:"
   ]
  },
  {
   "cell_type": "code",
   "execution_count": null,
   "metadata": {
    "colab": {
     "base_uri": "https://localhost:8080/",
     "height": 50
    },
    "colab_type": "code",
    "id": "TaGHLin28Km4",
    "outputId": "d105841b-17b3-443a-f006-d640e97b33d5"
   },
   "outputs": [],
   "source": [
    "# Retrieve tmp credentials from ArangoDB Tutorial Service\n",
    "login = oasis.getTempCredentials(tutorialName=\"FuzzyArangoSearch\", credentialProvider=\"https://d383fa0b596a.arangodb.cloud:8529/_db/_system/tutorialDB/tutorialDB\")\n",
    "\n",
    "# Connect to the temp database\n",
    "# Please note that we use the python-arango driver as it has better support for ArangoSearch \n",
    "database = oasis.connect_python_arango(login)"
   ]
  },
  {
   "cell_type": "code",
   "execution_count": null,
   "metadata": {
    "colab": {
     "base_uri": "https://localhost:8080/",
     "height": 84
    },
    "colab_type": "code",
    "id": "ECAfpWU48Km6",
    "outputId": "d9c09e48-9bed-4732-e66d-5dd28ede3bc1"
   },
   "outputs": [],
   "source": [
    "print(\"https://\"+login[\"hostname\"]+\":\"+str(login[\"port\"]))\n",
    "print(\"Username: \" + login[\"username\"])\n",
    "print(\"Password: \" + login[\"password\"])\n",
    "print(\"Database: \" + login[\"dbName\"])"
   ]
  },
  {
   "cell_type": "markdown",
   "metadata": {
    "colab_type": "text",
    "id": "xZ0mydlq8Km8"
   },
   "source": [
    "Feel free to use to above URL to checkout the WebUI!"
   ]
  },
  {
   "cell_type": "markdown",
   "metadata": {
    "colab_type": "text",
    "id": "_vXqUK6L8Km9"
   },
   "source": [
    "##  IMDB Example Dataset"
   ]
  },
  {
   "cell_type": "markdown",
   "metadata": {
    "colab_type": "text",
    "id": "o9JQShDi8Km9"
   },
   "source": [
    "![imdb](https://github.com/joerg84/ArangoDBUniversity/blob/master/img/IMDB_graph.png?raw=1)"
   ]
  },
  {
   "cell_type": "markdown",
   "metadata": {
    "colab_type": "text",
    "id": "SXkaey-g8Km9"
   },
   "source": [
    "Last, but not least we will import the [IMBD Example Dataset](https://github.com/arangodb/example-datasets/tree/master/Graphs/IMDB) including information about various movies, actors, directors, ... as a graph. \n",
    "*Note the included arangorestore will only work on Linux or Windows systems, if you want to run this notebook on a different OS please consider using the appropriate arangorestore from the [Download area](https://www.arangodb.com/download-major/)."
   ]
  },
  {
   "cell_type": "markdown",
   "metadata": {
    "colab_type": "text",
    "id": "bKM6jcXa8Km-"
   },
   "source": [
    "## Linux:"
   ]
  },
  {
   "cell_type": "code",
   "execution_count": null,
   "metadata": {
    "colab": {
     "base_uri": "https://localhost:8080/",
     "height": 490
    },
    "colab_type": "code",
    "id": "VPqigG8H8Km-",
    "outputId": "e89f439b-868a-4d17-f4bd-3517e6c4dd67"
   },
   "outputs": [],
   "source": [
    "! ./tools/arangorestore -c none --server.endpoint http+ssl://{login[\"hostname\"]}:{login[\"port\"]} --server.username {login[\"username\"]} --server.database {login[\"dbName\"]} --server.password {login[\"password\"]} --default-replication-factor 3  --input-directory \"data/imdb\""
   ]
  },
  {
   "cell_type": "markdown",
   "metadata": {
    "colab_type": "text",
    "id": "9yE_uMym8KnA"
   },
   "source": [
    "# Create First View"
   ]
  },
  {
   "cell_type": "markdown",
   "metadata": {
    "colab_type": "text",
    "id": "GhQynyJJ8KnB"
   },
   "source": [
    "As discussed above, an ArangoSearch view contains references to documents stored in different collections. \n",
    "This makes it possible to perform complex federated searches, even over a complete graph including vertex and edge collections."
   ]
  },
  {
   "cell_type": "code",
   "execution_count": null,
   "metadata": {
    "colab": {
     "base_uri": "https://localhost:8080/",
     "height": 319
    },
    "colab_type": "code",
    "id": "B-koXo6C8KnB",
    "outputId": "ea20c3a1-782d-4bea-da42-f386771b540d"
   },
   "outputs": [],
   "source": [
    "# Create an ArangoSearch view.\n",
    "database.create_arangosearch_view(\n",
    "    name='v_imdb',\n",
    "    properties={'cleanupIntervalStep': 0}\n",
    ")"
   ]
  },
  {
   "cell_type": "markdown",
   "metadata": {
    "colab_type": "text",
    "id": "Dn3rKYKG8KnD"
   },
   "source": [
    "Let us check it is actually there:"
   ]
  },
  {
   "cell_type": "code",
   "execution_count": null,
   "metadata": {
    "colab": {
     "base_uri": "https://localhost:8080/",
     "height": 34
    },
    "colab_type": "code",
    "id": "J5bwOthX8KnD",
    "outputId": "45bdc9cc-1473-4919-eac8-a986d55fdc97"
   },
   "outputs": [],
   "source": [
    "print(database[\"v_imdb\"])"
   ]
  },
  {
   "cell_type": "markdown",
   "metadata": {
    "colab_type": "text",
    "id": "a7RJtPcu8KnF"
   },
   "source": [
    "Next, we will create a custom analyzer to fill this view: \n",
    "\n",
    "TODO Requirements\n",
    "Note that, the analyzer must have the \"position\" and \"frequency\" features enabled.  "
   ]
  },
  {
   "cell_type": "code",
   "execution_count": null,
   "metadata": {
    "colab": {
     "base_uri": "https://localhost:8080/",
     "height": 185
    },
    "colab_type": "code",
    "id": "SSfISdj8kpd6",
    "outputId": "e164067e-6fb2-4e2d-e3f3-fd1d111b3216"
   },
   "outputs": [],
   "source": [
    " # Retrieve list of analyzers.\n",
    "database.analyzers()\n",
    "\n",
    "# Delete test\n",
    "database.delete_analyzer('test_analyzer', ignore_missing=True)\n",
    "\n",
    "database.create_analyzer(\n",
    "        name='test_analyzer',\n",
    "        analyzer_type='text',\n",
    "        properties={'locale': 'en.utf-8', 'case': 'lower', 'stopwords': [], 'accent': False, 'stemming': True, 'edgeNgram' : { 'min': 3, 'max': 8, 'preserveOriginal': True }},\n",
    "        features=[\"frequency\",'norm','position']\n",
    "    )\n",
    "\n",
    "\n",
    "#  locale: \"en.utf-8\",\n",
    "# ........>   case: \"lower\",\n",
    "# ........>   accent: false,\n",
    "# ........>   stemming: false,\n",
    "# ........>   stopwords: []\n",
    "# ........> }, [\"frequency\",\"norm\",\"position\"])\n",
    "\n",
    "# # Create an analyzer.\n",
    "# database.create_analyzer(\n",
    "#     name='bigram1',\n",
    "#     analyzer_type='text',\n",
    "#     properties={},\n",
    "#     features=[\"frequency\",\"norm\",\"position\"]\n",
    "# )\n",
    "\n",
    "#\"edgeNgram\" : { \"min\": 3, \"max\": 8, \"preserveOriginal\": True }\n",
    " \n",
    "#  (\"text_edge_ngrams\", \"text\", {\n",
    "# ........>   edgeNgram: { min: 3, max: 8, preserveOriginal: true },\n",
    "# ........>   locale: \"en.utf-8\",\n",
    "# ........>   case: \"lower\",\n",
    "# ........>   accent: false,\n",
    "# ........>   stemming: false,\n",
    "# ........>   stopwords: [ \"the\" ]\n",
    "# ........> }, [\"frequency\",\"norm\",\"position\"])"
   ]
  },
  {
   "cell_type": "code",
   "execution_count": null,
   "metadata": {
    "colab": {
     "base_uri": "https://localhost:8080/",
     "height": 319
    },
    "colab_type": "code",
    "id": "IL8GQTtQ8KnF",
    "outputId": "f0d486c8-658d-4079-e4f6-5226705ce114"
   },
   "outputs": [],
   "source": [
    " link = { \n",
    "  \"includeAllFields\": True,\n",
    "  \"fields\" : { \"description\" : { \"analyzers\" : [ \"test_analyzer\" ] } }\n",
    "}\n",
    "\n",
    "\n",
    "database.update_arangosearch_view(\n",
    "    name='v_imdb',\n",
    "    properties={'links': { 'imdb_vertices': link }}\n",
    ")"
   ]
  },
  {
   "cell_type": "markdown",
   "metadata": {
    "colab_type": "text",
    "id": "tMZumewz8KnH"
   },
   "source": [
    "As the indexing might take a few seconds, let us have a brief look at what is actually going on."
   ]
  },
  {
   "cell_type": "markdown",
   "metadata": {
    "colab_type": "text",
    "id": "89Xus7i28KnI"
   },
   "source": [
    "![ArangoSearch](https://github.com/joerg84/ArangoDBUniversity/blob/master/img/ArangoSearch_Arch.jpg?raw=1)"
   ]
  },
  {
   "cell_type": "markdown",
   "metadata": {
    "colab_type": "text",
    "id": "SF3oT3gQfbB0"
   },
   "source": [
    "**NGram Match**"
   ]
  },
  {
   "cell_type": "markdown",
   "metadata": {
    "colab_type": "text",
    "id": "haexui4sDce2"
   },
   "source": [
    "Ngram similarity a measure for the difference between two strings represented by counting how long the longest sequence of matching ngrams is, divided by target’s total ngram count. "
   ]
  },
  {
   "cell_type": "code",
   "execution_count": null,
   "metadata": {
    "colab": {
     "base_uri": "https://localhost:8080/",
     "height": 34
    },
    "colab_type": "code",
    "id": "t4-VhEhgC6oM",
    "outputId": "78eda087-0c25-4c93-bd22-213fbc2d59bf"
   },
   "outputs": [],
   "source": [
    "cursor = database.aql.execute(\n",
    "\"\"\"\n",
    "RETURN NGRAM_SIMILARITY(\n",
    "\"quick fox\",\n",
    "\"quick foxx\", \n",
    "2)\"\"\"\n",
    ")\n",
    "# Iterate through the result cursor\n",
    "for doc in cursor:\n",
    "  print(doc)\n"
   ]
  },
  {
   "cell_type": "markdown",
   "metadata": {
    "colab_type": "text",
    "id": "dWKNe-uiDhov"
   },
   "source": [
    "With a ngram size of 2, the ngram similarity between both strings is 0.888. Feel free experiment with other combinations such as `NGRAM_SIMILARITY( \"same string\",\"same string\", 2)` or vary the ngramSize."
   ]
  },
  {
   "cell_type": "markdown",
   "metadata": {
    "colab_type": "text",
    "id": "HQlOtFJCfglL"
   },
   "source": [
    "Let us start by using the NGram match to find mispelled movie title."
   ]
  },
  {
   "cell_type": "code",
   "execution_count": null,
   "metadata": {
    "colab": {
     "base_uri": "https://localhost:8080/",
     "height": 778
    },
    "colab_type": "code",
    "id": "b9_f99xRfvcZ",
    "outputId": "3a01972d-b4c0-490a-e456-4396a6c35258"
   },
   "outputs": [],
   "source": [
    "cursor = database.aql.execute(\n",
    "\"\"\"\n",
    "FOR d IN v_imdb SEARCH NGRAM_MATCH(d.title, 'Str War', 0.7, 'test_analyzer')\n",
    "SORT BM25(d) DESC\n",
    "RETURN d.title\"\"\"\n",
    ")\n",
    "# Iterate through the result cursor\n",
    "for doc in cursor:\n",
    "  print(doc)"
   ]
  },
  {
   "cell_type": "markdown",
   "metadata": {
    "colab_type": "text",
    "id": "9XsTF8Mtfwaj"
   },
   "source": [
    "Here we use the NGRAM_MATCH Search function to search the description of the movies in our view to find movies with similar results. The .7 is the threshold amount, this is how much ‘fuzziness’ we are still considering a match.\n",
    "\n",
    "The analyzer we used was configured with a min and max of 2, which means it looks at words 2 letters at a time. This is useful for determining the longest common sequence and context. The idea behind n-gram matching is searching for similar words, but not necessarily exact matches. One of the simplest ways of calculating similarity between two words is calculating the longest common sequence (LCS) of letters. The longer the LCS is the more similar the words are. However, this approach has one big disadvantage – absence of context. For example, words <connection> and <fonetica> have a long LCS (o-n-e-t-i) but very different meanings. To add some context, ngram sequences are used.\n",
    "\n",
    "Each word is split into a series of letter groups and these groups are then matched. If we use the same words, but calculate similarity based on 3-grams, an ngram with max and min of 3, we will get a better similarity measure: con-onn-nne-nec-ect-cti-tio-ion vs. fon-one-net-eti-tic-ica gives shorter LCS ( zero matches). To get rid of length differences we normalize the LCS length by word length. We calculate these matches to get a rating with a value between 0 (no match at all) and 1(fully matched). \n"
   ]
  },
  {
   "cell_type": "markdown",
   "metadata": {
    "colab_type": "text",
    "id": "PQozIhflEv26"
   },
   "source": [
    "While [NGRAM_SIMILARITY()](https://www.arangodb.com/docs/devel/aql/functions-string.html#ngram_similarity) only counts fully matching ngrams, [NGRAM_POSITIONAL_SIMILARITY()](https://www.arangodb.com/docs/devel/aql/functions-string.html#ngram_positional_similarity) also considers partially matching ones. Let us look at how that effects the returned scores:"
   ]
  },
  {
   "cell_type": "code",
   "execution_count": null,
   "metadata": {
    "colab": {
     "base_uri": "https://localhost:8080/",
     "height": 34
    },
    "colab_type": "code",
    "id": "0Z0Z9fXMEuPU",
    "outputId": "fbfeff36-9c1a-425c-b3ce-673c1f743926"
   },
   "outputs": [],
   "source": [
    "cursor = database.aql.execute(\n",
    "\"\"\"\n",
    "RETURN\n",
    "{\"NGRAM_SIMILARITY\" : NGRAM_SIMILARITY(\n",
    "\"quick fox jumps\",\n",
    "\"quick foxx jups\", \n",
    "2),\n",
    "\"NGRAM_POSITIONAL_SIMILARITY\" : NGRAM_POSITIONAL_SIMILARITY(\n",
    "\"quick fox jumps\",\n",
    "\"quick foxx jups\", \n",
    "2)}\"\"\"\n",
    ")\n",
    "# Iterate through the result cursor\n",
    "for doc in cursor:\n",
    "  print(doc)"
   ]
  },
  {
   "cell_type": "markdown",
   "metadata": {
    "colab_type": "text",
    "id": "vUgcAWSpdl8l"
   },
   "source": [
    "## Levenshtein MATCH"
   ]
  },
  {
   "cell_type": "markdown",
   "metadata": {
    "colab_type": "text",
    "id": "1JisqzP5dflN"
   },
   "source": [
    "[Levenshtein distance](https://en.wikipedia.org/wiki/Levenshtein_distance) is a another measure for the difference between two strings represented by the  minimum number of single-character transformations required to move from one string to the other. Let is consider a concrete example:"
   ]
  },
  {
   "cell_type": "code",
   "execution_count": null,
   "metadata": {
    "colab": {
     "base_uri": "https://localhost:8080/",
     "height": 34
    },
    "colab_type": "code",
    "id": "pr-gqDa8de1I",
    "outputId": "7ec3b773-a313-43f8-8933-3fc774254a58"
   },
   "outputs": [],
   "source": [
    "cursor = database.aql.execute(\n",
    "\"\"\"\n",
    "RETURN LEVENSHTEIN_DISTANCE(\n",
    "\"The quick brown fox jumps over the lazy dog\", \n",
    "\"The quick black dog jumps over the brown fox\")\"\"\"\n",
    ")\n",
    "# Iterate through the result cursor\n",
    "for doc in cursor:\n",
    "  print(doc)\n",
    "\n",
    "\n"
   ]
  },
  {
   "cell_type": "markdown",
   "metadata": {
    "colab_type": "text",
    "id": "0r1uwBXLBaMk"
   },
   "source": [
    "Here we need a minimum of 13 transformations to move from one string to the other. \n",
    "Feel free to find a minimum sequence for this transformation or experiment with other combinations such as `LEVENSHTEIN_DISTANCE(\"a\", \"b\")`."
   ]
  },
  {
   "cell_type": "code",
   "execution_count": null,
   "metadata": {
    "colab": {},
    "colab_type": "code",
    "id": "IYzxDnGn8KnM"
   },
   "outputs": [],
   "source": [
    "# Execute the query\n",
    "cursor = database.aql.execute(\n",
    "  \"\"\"\n",
    "  FOR doc IN v_imdb\n",
    "    SEARCH LEVENSHTEIN_MATCH(\n",
    "      doc.description, \n",
    "      'galxy', \n",
    "      2\n",
    "      )\n",
    "    RETURN doc\n",
    "  \"\"\"\n",
    ")\n",
    "# Iterate through the result cursor\n",
    "for doc in cursor:\n",
    "  print(doc)"
   ]
  },
  {
   "cell_type": "markdown",
   "metadata": {
    "colab_type": "text",
    "id": "HXf5hRIA8u6j"
   },
   "source": [
    "Note, that we do not require to specify the analyzer as the distance as the input does not need to be mmodified."
   ]
  },
  {
   "cell_type": "markdown",
   "metadata": {
    "colab_type": "text",
    "id": "iKymkZji51Go"
   },
   "source": [
    "## Comparison \n",
    "\n",
    "When should we choose which?\n"
   ]
  },
  {
   "cell_type": "markdown",
   "metadata": {
    "colab_type": "text",
    "id": "tWpH7oVb8KnW"
   },
   "source": [
    "# Further Links"
   ]
  },
  {
   "cell_type": "markdown",
   "metadata": {
    "colab_type": "text",
    "id": "dP0KpLrK8KnW"
   },
   "source": [
    "* https://www.arangodb.com/docs/stable/arangosearch.html\n",
    "\n",
    "* https://www.arangodb.com/arangodb-training-center/search/arangosearch/"
   ]
  }
 ],
 "metadata": {
  "colab": {
   "name": "FuzzySearch.ipynb",
   "provenance": [],
   "toc_visible": true
  },
  "kernelspec": {
   "display_name": "Python 3",
   "name": "python3"
  }
 },
 "nbformat": 4,
 "nbformat_minor": 0
}
